{
  "nbformat": 4,
  "nbformat_minor": 0,
  "metadata": {
    "colab": {
      "provenance": [],
      "gpuType": "T4",
      "authorship_tag": "ABX9TyPdqj6ErR6TazYeUaryI1xo",
      "include_colab_link": true
    },
    "kernelspec": {
      "name": "python3",
      "display_name": "Python 3"
    },
    "language_info": {
      "name": "python"
    },
    "accelerator": "GPU"
  },
  "cells": [
    {
      "cell_type": "markdown",
      "metadata": {
        "id": "view-in-github",
        "colab_type": "text"
      },
      "source": [
        "<a href=\"https://colab.research.google.com/github/jeong2624/Deep-Learning-for-the-Life-Sciences-coding-transcription/blob/main/Chapter5_Biophysics_and_Machine_Learning.ipynb\" target=\"_parent\"><img src=\"https://colab.research.google.com/assets/colab-badge.svg\" alt=\"Open In Colab\"/></a>"
      ]
    },
    {
      "cell_type": "markdown",
      "source": [
        "## **Biophysics and Machine Learning**\n",
        "\n",
        "해당 Chapter에서는 생물물리학 (Biophysics)에 딥러닝을 활용하는 방법을 살펴봄.\n",
        "\n",
        "특히 약물이 체내에 들어가서 생체 내 단백질과 어떤 결합을 하는지를 예측하는 문제에 집중.\n",
        "\n",
        "약물과 단백질의 상호작용은 신약 개발에서 중요한 관심사이며, 단백질의 기능을 조절하면 치료 효과를 낼 수 있기 때문임.\n",
        "\n",
        "따라서, 해당 Chapter에서는 특정 분자가 목적 단백질과 형성하는 상호작용을 예측하는 머신러닝 모델을 만드는 것이 목표!"
      ],
      "metadata": {
        "id": "fT3SUySI1v-h"
      }
    },
    {
      "cell_type": "code",
      "source": [
        "# 필요한 라이브러리 설치\n",
        "!pip install --pre deepchem\n",
        "!pip install numpy torch_geometric pytorch_lightning dm-haiku"
      ],
      "metadata": {
        "colab": {
          "base_uri": "https://localhost:8080/"
        },
        "id": "fXBtai8p3LLm",
        "outputId": "077ae67d-4f4a-493e-8714-31c3ebc9c662"
      },
      "execution_count": 1,
      "outputs": [
        {
          "output_type": "stream",
          "name": "stdout",
          "text": [
            "Requirement already satisfied: deepchem in /usr/local/lib/python3.10/dist-packages (2.7.2.dev20231110055545)\n",
            "Requirement already satisfied: joblib in /usr/local/lib/python3.10/dist-packages (from deepchem) (1.3.2)\n",
            "Requirement already satisfied: numpy>=1.21 in /usr/local/lib/python3.10/dist-packages (from deepchem) (1.23.5)\n",
            "Requirement already satisfied: pandas in /usr/local/lib/python3.10/dist-packages (from deepchem) (1.5.3)\n",
            "Requirement already satisfied: scikit-learn in /usr/local/lib/python3.10/dist-packages (from deepchem) (1.2.2)\n",
            "Requirement already satisfied: sympy in /usr/local/lib/python3.10/dist-packages (from deepchem) (1.12)\n",
            "Requirement already satisfied: scipy>=1.10.1 in /usr/local/lib/python3.10/dist-packages (from deepchem) (1.11.3)\n",
            "Requirement already satisfied: rdkit in /usr/local/lib/python3.10/dist-packages (from deepchem) (2023.9.1)\n",
            "Requirement already satisfied: python-dateutil>=2.8.1 in /usr/local/lib/python3.10/dist-packages (from pandas->deepchem) (2.8.2)\n",
            "Requirement already satisfied: pytz>=2020.1 in /usr/local/lib/python3.10/dist-packages (from pandas->deepchem) (2023.3.post1)\n",
            "Requirement already satisfied: Pillow in /usr/local/lib/python3.10/dist-packages (from rdkit->deepchem) (9.4.0)\n",
            "Requirement already satisfied: threadpoolctl>=2.0.0 in /usr/local/lib/python3.10/dist-packages (from scikit-learn->deepchem) (3.2.0)\n",
            "Requirement already satisfied: mpmath>=0.19 in /usr/local/lib/python3.10/dist-packages (from sympy->deepchem) (1.3.0)\n",
            "Requirement already satisfied: six>=1.5 in /usr/local/lib/python3.10/dist-packages (from python-dateutil>=2.8.1->pandas->deepchem) (1.16.0)\n",
            "Requirement already satisfied: numpy in /usr/local/lib/python3.10/dist-packages (1.23.5)\n",
            "Requirement already satisfied: torch_geometric in /usr/local/lib/python3.10/dist-packages (2.4.0)\n",
            "Requirement already satisfied: pytorch_lightning in /usr/local/lib/python3.10/dist-packages (2.1.1)\n",
            "Requirement already satisfied: dm-haiku in /usr/local/lib/python3.10/dist-packages (0.0.10)\n",
            "Requirement already satisfied: tqdm in /usr/local/lib/python3.10/dist-packages (from torch_geometric) (4.66.1)\n",
            "Requirement already satisfied: scipy in /usr/local/lib/python3.10/dist-packages (from torch_geometric) (1.11.3)\n",
            "Requirement already satisfied: jinja2 in /usr/local/lib/python3.10/dist-packages (from torch_geometric) (3.1.2)\n",
            "Requirement already satisfied: requests in /usr/local/lib/python3.10/dist-packages (from torch_geometric) (2.31.0)\n",
            "Requirement already satisfied: pyparsing in /usr/local/lib/python3.10/dist-packages (from torch_geometric) (3.1.1)\n",
            "Requirement already satisfied: scikit-learn in /usr/local/lib/python3.10/dist-packages (from torch_geometric) (1.2.2)\n",
            "Requirement already satisfied: psutil>=5.8.0 in /usr/local/lib/python3.10/dist-packages (from torch_geometric) (5.9.5)\n",
            "Requirement already satisfied: torch>=1.12.0 in /usr/local/lib/python3.10/dist-packages (from pytorch_lightning) (2.1.0+cu118)\n",
            "Requirement already satisfied: PyYAML>=5.4 in /usr/local/lib/python3.10/dist-packages (from pytorch_lightning) (6.0.1)\n",
            "Requirement already satisfied: fsspec[http]>2021.06.0 in /usr/local/lib/python3.10/dist-packages (from pytorch_lightning) (2023.6.0)\n",
            "Requirement already satisfied: torchmetrics>=0.7.0 in /usr/local/lib/python3.10/dist-packages (from pytorch_lightning) (1.2.0)\n",
            "Requirement already satisfied: packaging>=20.0 in /usr/local/lib/python3.10/dist-packages (from pytorch_lightning) (23.2)\n",
            "Requirement already satisfied: typing-extensions>=4.0.0 in /usr/local/lib/python3.10/dist-packages (from pytorch_lightning) (4.5.0)\n",
            "Requirement already satisfied: lightning-utilities>=0.8.0 in /usr/local/lib/python3.10/dist-packages (from pytorch_lightning) (0.9.0)\n",
            "Requirement already satisfied: absl-py>=0.7.1 in /usr/local/lib/python3.10/dist-packages (from dm-haiku) (1.4.0)\n",
            "Requirement already satisfied: jmp>=0.0.2 in /usr/local/lib/python3.10/dist-packages (from dm-haiku) (0.0.4)\n",
            "Requirement already satisfied: tabulate>=0.8.9 in /usr/local/lib/python3.10/dist-packages (from dm-haiku) (0.9.0)\n",
            "Requirement already satisfied: aiohttp!=4.0.0a0,!=4.0.0a1 in /usr/local/lib/python3.10/dist-packages (from fsspec[http]>2021.06.0->pytorch_lightning) (3.8.6)\n",
            "Requirement already satisfied: filelock in /usr/local/lib/python3.10/dist-packages (from torch>=1.12.0->pytorch_lightning) (3.13.1)\n",
            "Requirement already satisfied: sympy in /usr/local/lib/python3.10/dist-packages (from torch>=1.12.0->pytorch_lightning) (1.12)\n",
            "Requirement already satisfied: networkx in /usr/local/lib/python3.10/dist-packages (from torch>=1.12.0->pytorch_lightning) (3.2.1)\n",
            "Requirement already satisfied: triton==2.1.0 in /usr/local/lib/python3.10/dist-packages (from torch>=1.12.0->pytorch_lightning) (2.1.0)\n",
            "Requirement already satisfied: MarkupSafe>=2.0 in /usr/local/lib/python3.10/dist-packages (from jinja2->torch_geometric) (2.1.3)\n",
            "Requirement already satisfied: charset-normalizer<4,>=2 in /usr/local/lib/python3.10/dist-packages (from requests->torch_geometric) (3.3.2)\n",
            "Requirement already satisfied: idna<4,>=2.5 in /usr/local/lib/python3.10/dist-packages (from requests->torch_geometric) (3.4)\n",
            "Requirement already satisfied: urllib3<3,>=1.21.1 in /usr/local/lib/python3.10/dist-packages (from requests->torch_geometric) (2.0.7)\n",
            "Requirement already satisfied: certifi>=2017.4.17 in /usr/local/lib/python3.10/dist-packages (from requests->torch_geometric) (2023.7.22)\n",
            "Requirement already satisfied: joblib>=1.1.1 in /usr/local/lib/python3.10/dist-packages (from scikit-learn->torch_geometric) (1.3.2)\n",
            "Requirement already satisfied: threadpoolctl>=2.0.0 in /usr/local/lib/python3.10/dist-packages (from scikit-learn->torch_geometric) (3.2.0)\n",
            "Requirement already satisfied: attrs>=17.3.0 in /usr/local/lib/python3.10/dist-packages (from aiohttp!=4.0.0a0,!=4.0.0a1->fsspec[http]>2021.06.0->pytorch_lightning) (23.1.0)\n",
            "Requirement already satisfied: multidict<7.0,>=4.5 in /usr/local/lib/python3.10/dist-packages (from aiohttp!=4.0.0a0,!=4.0.0a1->fsspec[http]>2021.06.0->pytorch_lightning) (6.0.4)\n",
            "Requirement already satisfied: async-timeout<5.0,>=4.0.0a3 in /usr/local/lib/python3.10/dist-packages (from aiohttp!=4.0.0a0,!=4.0.0a1->fsspec[http]>2021.06.0->pytorch_lightning) (4.0.3)\n",
            "Requirement already satisfied: yarl<2.0,>=1.0 in /usr/local/lib/python3.10/dist-packages (from aiohttp!=4.0.0a0,!=4.0.0a1->fsspec[http]>2021.06.0->pytorch_lightning) (1.9.2)\n",
            "Requirement already satisfied: frozenlist>=1.1.1 in /usr/local/lib/python3.10/dist-packages (from aiohttp!=4.0.0a0,!=4.0.0a1->fsspec[http]>2021.06.0->pytorch_lightning) (1.4.0)\n",
            "Requirement already satisfied: aiosignal>=1.1.2 in /usr/local/lib/python3.10/dist-packages (from aiohttp!=4.0.0a0,!=4.0.0a1->fsspec[http]>2021.06.0->pytorch_lightning) (1.3.1)\n",
            "Requirement already satisfied: mpmath>=0.19 in /usr/local/lib/python3.10/dist-packages (from sympy->torch>=1.12.0->pytorch_lightning) (1.3.0)\n"
          ]
        }
      ]
    },
    {
      "cell_type": "code",
      "source": [
        "# 필요한 라이브러리 불러오기\n",
        "import deepchem as dc\n",
        "import numpy as np\n",
        "\n",
        "# 재현성을 위해 시드값 배정\n",
        "np.random.seed(20231110)"
      ],
      "metadata": {
        "colab": {
          "base_uri": "https://localhost:8080/"
        },
        "id": "AQvrEM413SjW",
        "outputId": "5bf45901-d6cc-48c7-a1d1-8c8df0eaa957"
      },
      "execution_count": 2,
      "outputs": [
        {
          "output_type": "stream",
          "name": "stderr",
          "text": [
            "WARNING:deepchem.feat.molecule_featurizers.rdkit_descriptors:No normalization for SPS. Feature removed!\n",
            "WARNING:deepchem.feat.molecule_featurizers.rdkit_descriptors:No normalization for AvgIpc. Feature removed!\n",
            "WARNING:deepchem.models.torch_models:Skipped loading modules with pytorch-geometric dependency, missing a dependency. No module named 'dgl'\n",
            "WARNING:deepchem.models.torch_models:Skipped loading modules with transformers dependency. No module named 'transformers'\n",
            "WARNING:deepchem.models:cannot import name 'HuggingFaceModel' from 'deepchem.models.torch_models' (/usr/local/lib/python3.10/dist-packages/deepchem/models/torch_models/__init__.py)\n"
          ]
        }
      ]
    },
    {
      "cell_type": "markdown",
      "source": [
        "### **생물물리학 데이터 사례 연구**"
      ],
      "metadata": {
        "id": "ByScxv9w221H"
      }
    },
    {
      "cell_type": "code",
      "execution_count": 3,
      "metadata": {
        "id": "NfIcOBKq1eCP"
      },
      "outputs": [],
      "source": [
        "# 분석의 편의를 위해 다음과 같이 RdkitGridFeaturizer 객체 만들기\n",
        "# 그리드 피처화 : 단백질-리간드 결합에 대한 데이터를 피처화를 통해 벡터로 변환\n",
        "grid = dc.feat.RdkitGridFeaturizer(\n",
        "    voxel_width = 2.0, # 그리드를 구성하는 복셀 (Voxel, 부피 (volume)와 픽셀 (pixel)을 조합한 혼성어)의 크기를 2Å (옹스트롬)으로 정의\n",
        "    feature_types = ['hbond', 'salt_bridge', 'pi_stack', 'cation_pi', 'ecfp', 'splif'], # 유용한 화학적 특성 : 수소결합, 이온결합, 파이 겹침 결합, ECFP (화학 지문), SPLIF (화학 지문)\n",
        "    sanitize = True, # 단백질 3차원 구조는 종종 잘못된 형식이 포함돼 있기 때문에 해당 옵션을 통해 DeepChem이 탐지한 명백한 오류를 수정.\n",
        "    flatten = True # 각각의 입력 구조에 대해 1차원 feature 벡터로 출력\n",
        ")"
      ]
    },
    {
      "cell_type": "code",
      "source": [
        "# PDBBind 데이터셋 불러오기\n",
        "# 해당 데이터셋은 많은 수의 생체 분자 (단백질, 핵산, 지질 등) 의 3차원 구조와 이들의 결합 친화력 (Binding affinity)를 포함하고 있음.\n",
        "# 해당 데이터셋은 PDB (Protein Data Bank)에서 수집됨.\n",
        "\n",
        "tasks, datasets, transformers = dc.molnet.load_pdbbind(\n",
        "    featurizer = grid, # MoleculeNet이 자동으로 피쳐화 수행함.\n",
        "    splitter = \"random\", # 무작위로 데이터 분할\n",
        "    subset = \"core\" # PDB 데이터는 실험에 대한 설정과 측정값에 실험적인 차이가 있기 때문에 결과적으로 데이터 품질이 일정하지 못함. 따라서 정리된 핵심 데이터셋만 사용.\n",
        ")\n",
        "\n",
        "# Train, Validation, Test 데이터셋으로 분리\n",
        "train_dataset, valid_dataset, test_dataset = datasets"
      ],
      "metadata": {
        "id": "Sf-cIUcw4_cG"
      },
      "execution_count": 4,
      "outputs": []
    },
    {
      "cell_type": "markdown",
      "source": [
        "#### **1. Random Forest 모델**"
      ],
      "metadata": {
        "id": "b2ty2bLP9C0W"
      }
    },
    {
      "cell_type": "code",
      "source": [
        "# 단백질-리간드 결합을 예측하는 머신러닝 모델 만들기 (Random Forest)\n",
        "from sklearn.ensemble import RandomForestRegressor\n",
        "\n",
        "sklearn_model = RandomForestRegressor(n_estimators = 100)\n",
        "model = dc.models.SklearnModel(sklearn_model)\n",
        "\n",
        "# 모델 학습\n",
        "model.fit(train_dataset)"
      ],
      "metadata": {
        "id": "Utqrge6i6Lgy"
      },
      "execution_count": 5,
      "outputs": []
    },
    {
      "cell_type": "code",
      "source": [
        "# 모델 성능 평가 (평균제곱오차, MSE)\n",
        "metric = dc.metrics.Metric(dc.metrics.mean_squared_error)\n",
        "train_scores = model.evaluate(train_dataset, [metric], transformers)\n",
        "test_scores = model.evaluate(test_dataset, [metric], transformers)\n",
        "\n",
        "print(\"Train scores\")\n",
        "print(train_scores)\n",
        "\n",
        "print(\"Test scores\")\n",
        "print(test_scores)"
      ],
      "metadata": {
        "colab": {
          "base_uri": "https://localhost:8080/"
        },
        "id": "Yom0WxZ57Tcq",
        "outputId": "9ad9e996-9084-404b-c9c6-05a1aa873659"
      },
      "execution_count": 6,
      "outputs": [
        {
          "output_type": "stream",
          "name": "stdout",
          "text": [
            "Train scores\n",
            "{'mean_squared_error': 5.48236179136448}\n",
            "Test scores\n",
            "{'mean_squared_error': 2.8030007102378147}\n"
          ]
        }
      ]
    },
    {
      "cell_type": "markdown",
      "source": [
        "#### **2. 다층 퍼셉트론**"
      ],
      "metadata": {
        "id": "fdjqMNIA9JxD"
      }
    },
    {
      "cell_type": "code",
      "source": [
        "# 단백질-리간드 결합을 예측하는 머신러닝 모델 만들기 (Multi-layer Perceptron)\n",
        "n_features = train_dataset.X.shape[1]\n",
        "\n",
        "nn_model = dc.models.MultitaskRegressor(\n",
        "    n_tasks = len(tasks), # 예측하고자 하는 값의 개수\n",
        "    n_features = n_features, # 변수의 개수\n",
        "    layer_sizes = [2000, 1000], # Hidden layer의 너비를 각각 2,000과 1,000으로 설정\n",
        "    dropout = 0.5, # 모델 과적합을 피하기 위해 50% dropout을 설정.\n",
        "    learning_rate = 0.0003, # 학습률\n",
        ")\n",
        "\n",
        "# 모델 학습\n",
        "nn_model.fit(train_dataset, nb_epoch = 50)"
      ],
      "metadata": {
        "colab": {
          "base_uri": "https://localhost:8080/"
        },
        "id": "zBEFjlrO7yTB",
        "outputId": "ec55ac10-2436-49cd-e68e-dd1e171fa407"
      },
      "execution_count": 7,
      "outputs": [
        {
          "output_type": "execute_result",
          "data": {
            "text/plain": [
              "2.461345520019531"
            ]
          },
          "metadata": {},
          "execution_count": 7
        }
      ]
    },
    {
      "cell_type": "code",
      "source": [
        "# 모델 성능 평가 (평균제곱오차, MSE)\n",
        "metric = dc.metrics.Metric(dc.metrics.mean_squared_error)\n",
        "train_scores = nn_model.evaluate(train_dataset, [metric], transformers)\n",
        "test_scores = nn_model.evaluate(test_dataset, [metric], transformers)\n",
        "\n",
        "print(\"Train scores\")\n",
        "print(train_scores)\n",
        "\n",
        "print(\"Test scores\")\n",
        "print(test_scores)"
      ],
      "metadata": {
        "colab": {
          "base_uri": "https://localhost:8080/"
        },
        "id": "lz60t63S-chs",
        "outputId": "2a40ffcb-da40-4b4e-c668-f321a2a0f04d"
      },
      "execution_count": 8,
      "outputs": [
        {
          "output_type": "stream",
          "name": "stdout",
          "text": [
            "Train scores\n",
            "{'mean_squared_error': 5.554184070014167}\n",
            "Test scores\n",
            "{'mean_squared_error': 3.0074861999006255}\n"
          ]
        }
      ]
    }
  ]
}