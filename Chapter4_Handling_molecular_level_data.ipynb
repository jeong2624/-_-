{
  "nbformat": 4,
  "nbformat_minor": 0,
  "metadata": {
    "colab": {
      "provenance": [],
      "gpuType": "T4",
      "authorship_tag": "ABX9TyPetys6gdw6EJwUeWBsgN6C",
      "include_colab_link": true
    },
    "kernelspec": {
      "name": "python3",
      "display_name": "Python 3"
    },
    "language_info": {
      "name": "python"
    },
    "accelerator": "GPU"
  },
  "cells": [
    {
      "cell_type": "markdown",
      "metadata": {
        "id": "view-in-github",
        "colab_type": "text"
      },
      "source": [
        "<a href=\"https://colab.research.google.com/github/jeong2624/Deep-Learning-for-the-Life-Sciences-coding-transcription/blob/main/Chapter4_Handling_molecular_level_data.ipynb\" target=\"_parent\"><img src=\"https://colab.research.google.com/assets/colab-badge.svg\" alt=\"Open In Colab\"/></a>"
      ]
    },
    {
      "cell_type": "markdown",
      "source": [
        "## **Handling molecular-level data**\n",
        "\n",
        "해당 Chapter에서는 머신러닝을 분자 수준의 데이터에 적용하는 방법을 다룸.\n",
        "\n",
        "분자 수준의 데이터에 머신러닝을 사용하는 것은 재료과학과 화학 분야에서 특히 유용함.\n",
        "\n",
        "이로 인해 새로운 분자 구조를 예측할 수 있다면 전체 실험의 양을 크게 줄일 수 있으며, 무작위로 설정하는 대신에 머신러닝 모델로부터 제안된 분자를 사용해 실험함으로써 성공 가능성을 높일 수 있음."
      ],
      "metadata": {
        "id": "xx0KH8GK5Yql"
      }
    },
    {
      "cell_type": "code",
      "source": [
        "# 필요한 라이브러리 설치\n",
        "!pip install --pre deepchem\n",
        "!pip install numpy torch_geometric pytorch_lightning dm-haiku"
      ],
      "metadata": {
        "id": "8zVc-NJo9I3W",
        "colab": {
          "base_uri": "https://localhost:8080/"
        },
        "outputId": "89681982-4458-4755-bdbc-2ee2b5782f16"
      },
      "execution_count": 1,
      "outputs": [
        {
          "output_type": "stream",
          "name": "stdout",
          "text": [
            "Requirement already satisfied: deepchem in /usr/local/lib/python3.10/dist-packages (2.7.2.dev20231105033457)\n",
            "Requirement already satisfied: joblib in /usr/local/lib/python3.10/dist-packages (from deepchem) (1.3.2)\n",
            "Requirement already satisfied: numpy>=1.21 in /usr/local/lib/python3.10/dist-packages (from deepchem) (1.23.5)\n",
            "Requirement already satisfied: pandas in /usr/local/lib/python3.10/dist-packages (from deepchem) (1.5.3)\n",
            "Requirement already satisfied: scikit-learn in /usr/local/lib/python3.10/dist-packages (from deepchem) (1.2.2)\n",
            "Requirement already satisfied: sympy in /usr/local/lib/python3.10/dist-packages (from deepchem) (1.12)\n",
            "Requirement already satisfied: scipy>=1.10.1 in /usr/local/lib/python3.10/dist-packages (from deepchem) (1.11.3)\n",
            "Requirement already satisfied: rdkit in /usr/local/lib/python3.10/dist-packages (from deepchem) (2023.9.1)\n",
            "Requirement already satisfied: python-dateutil>=2.8.1 in /usr/local/lib/python3.10/dist-packages (from pandas->deepchem) (2.8.2)\n",
            "Requirement already satisfied: pytz>=2020.1 in /usr/local/lib/python3.10/dist-packages (from pandas->deepchem) (2023.3.post1)\n",
            "Requirement already satisfied: Pillow in /usr/local/lib/python3.10/dist-packages (from rdkit->deepchem) (9.4.0)\n",
            "Requirement already satisfied: threadpoolctl>=2.0.0 in /usr/local/lib/python3.10/dist-packages (from scikit-learn->deepchem) (3.2.0)\n",
            "Requirement already satisfied: mpmath>=0.19 in /usr/local/lib/python3.10/dist-packages (from sympy->deepchem) (1.3.0)\n",
            "Requirement already satisfied: six>=1.5 in /usr/local/lib/python3.10/dist-packages (from python-dateutil>=2.8.1->pandas->deepchem) (1.16.0)\n",
            "Requirement already satisfied: numpy in /usr/local/lib/python3.10/dist-packages (1.23.5)\n",
            "Requirement already satisfied: torch_geometric in /usr/local/lib/python3.10/dist-packages (2.4.0)\n",
            "Requirement already satisfied: pytorch_lightning in /usr/local/lib/python3.10/dist-packages (2.1.0)\n",
            "Requirement already satisfied: dm-haiku in /usr/local/lib/python3.10/dist-packages (0.0.10)\n",
            "Requirement already satisfied: tqdm in /usr/local/lib/python3.10/dist-packages (from torch_geometric) (4.66.1)\n",
            "Requirement already satisfied: scipy in /usr/local/lib/python3.10/dist-packages (from torch_geometric) (1.11.3)\n",
            "Requirement already satisfied: jinja2 in /usr/local/lib/python3.10/dist-packages (from torch_geometric) (3.1.2)\n",
            "Requirement already satisfied: requests in /usr/local/lib/python3.10/dist-packages (from torch_geometric) (2.31.0)\n",
            "Requirement already satisfied: pyparsing in /usr/local/lib/python3.10/dist-packages (from torch_geometric) (3.1.1)\n",
            "Requirement already satisfied: scikit-learn in /usr/local/lib/python3.10/dist-packages (from torch_geometric) (1.2.2)\n",
            "Requirement already satisfied: psutil>=5.8.0 in /usr/local/lib/python3.10/dist-packages (from torch_geometric) (5.9.5)\n",
            "Requirement already satisfied: torch>=1.12.0 in /usr/local/lib/python3.10/dist-packages (from pytorch_lightning) (2.1.0+cu118)\n",
            "Requirement already satisfied: PyYAML>=5.4 in /usr/local/lib/python3.10/dist-packages (from pytorch_lightning) (6.0.1)\n",
            "Requirement already satisfied: fsspec[http]>2021.06.0 in /usr/local/lib/python3.10/dist-packages (from pytorch_lightning) (2023.6.0)\n",
            "Requirement already satisfied: torchmetrics>=0.7.0 in /usr/local/lib/python3.10/dist-packages (from pytorch_lightning) (1.2.0)\n",
            "Requirement already satisfied: packaging>=20.0 in /usr/local/lib/python3.10/dist-packages (from pytorch_lightning) (23.2)\n",
            "Requirement already satisfied: typing-extensions>=4.0.0 in /usr/local/lib/python3.10/dist-packages (from pytorch_lightning) (4.5.0)\n",
            "Requirement already satisfied: lightning-utilities>=0.8.0 in /usr/local/lib/python3.10/dist-packages (from pytorch_lightning) (0.9.0)\n",
            "Requirement already satisfied: absl-py>=0.7.1 in /usr/local/lib/python3.10/dist-packages (from dm-haiku) (1.4.0)\n",
            "Requirement already satisfied: jmp>=0.0.2 in /usr/local/lib/python3.10/dist-packages (from dm-haiku) (0.0.4)\n",
            "Requirement already satisfied: tabulate>=0.8.9 in /usr/local/lib/python3.10/dist-packages (from dm-haiku) (0.9.0)\n",
            "Requirement already satisfied: aiohttp!=4.0.0a0,!=4.0.0a1 in /usr/local/lib/python3.10/dist-packages (from fsspec[http]>2021.06.0->pytorch_lightning) (3.8.6)\n",
            "Requirement already satisfied: filelock in /usr/local/lib/python3.10/dist-packages (from torch>=1.12.0->pytorch_lightning) (3.12.4)\n",
            "Requirement already satisfied: sympy in /usr/local/lib/python3.10/dist-packages (from torch>=1.12.0->pytorch_lightning) (1.12)\n",
            "Requirement already satisfied: networkx in /usr/local/lib/python3.10/dist-packages (from torch>=1.12.0->pytorch_lightning) (3.2)\n",
            "Requirement already satisfied: triton==2.1.0 in /usr/local/lib/python3.10/dist-packages (from torch>=1.12.0->pytorch_lightning) (2.1.0)\n",
            "Requirement already satisfied: MarkupSafe>=2.0 in /usr/local/lib/python3.10/dist-packages (from jinja2->torch_geometric) (2.1.3)\n",
            "Requirement already satisfied: charset-normalizer<4,>=2 in /usr/local/lib/python3.10/dist-packages (from requests->torch_geometric) (3.3.1)\n",
            "Requirement already satisfied: idna<4,>=2.5 in /usr/local/lib/python3.10/dist-packages (from requests->torch_geometric) (3.4)\n",
            "Requirement already satisfied: urllib3<3,>=1.21.1 in /usr/local/lib/python3.10/dist-packages (from requests->torch_geometric) (2.0.7)\n",
            "Requirement already satisfied: certifi>=2017.4.17 in /usr/local/lib/python3.10/dist-packages (from requests->torch_geometric) (2023.7.22)\n",
            "Requirement already satisfied: joblib>=1.1.1 in /usr/local/lib/python3.10/dist-packages (from scikit-learn->torch_geometric) (1.3.2)\n",
            "Requirement already satisfied: threadpoolctl>=2.0.0 in /usr/local/lib/python3.10/dist-packages (from scikit-learn->torch_geometric) (3.2.0)\n",
            "Requirement already satisfied: attrs>=17.3.0 in /usr/local/lib/python3.10/dist-packages (from aiohttp!=4.0.0a0,!=4.0.0a1->fsspec[http]>2021.06.0->pytorch_lightning) (23.1.0)\n",
            "Requirement already satisfied: multidict<7.0,>=4.5 in /usr/local/lib/python3.10/dist-packages (from aiohttp!=4.0.0a0,!=4.0.0a1->fsspec[http]>2021.06.0->pytorch_lightning) (6.0.4)\n",
            "Requirement already satisfied: async-timeout<5.0,>=4.0.0a3 in /usr/local/lib/python3.10/dist-packages (from aiohttp!=4.0.0a0,!=4.0.0a1->fsspec[http]>2021.06.0->pytorch_lightning) (4.0.3)\n",
            "Requirement already satisfied: yarl<2.0,>=1.0 in /usr/local/lib/python3.10/dist-packages (from aiohttp!=4.0.0a0,!=4.0.0a1->fsspec[http]>2021.06.0->pytorch_lightning) (1.9.2)\n",
            "Requirement already satisfied: frozenlist>=1.1.1 in /usr/local/lib/python3.10/dist-packages (from aiohttp!=4.0.0a0,!=4.0.0a1->fsspec[http]>2021.06.0->pytorch_lightning) (1.4.0)\n",
            "Requirement already satisfied: aiosignal>=1.1.2 in /usr/local/lib/python3.10/dist-packages (from aiohttp!=4.0.0a0,!=4.0.0a1->fsspec[http]>2021.06.0->pytorch_lightning) (1.3.1)\n",
            "Requirement already satisfied: mpmath>=0.19 in /usr/local/lib/python3.10/dist-packages (from sympy->torch>=1.12.0->pytorch_lightning) (1.3.0)\n"
          ]
        }
      ]
    },
    {
      "cell_type": "code",
      "source": [
        "# 필요한 라이브러리 불러오기\n",
        "import deepchem as dc\n",
        "from rdkit import Chem\n",
        "import numpy as np\n",
        "\n",
        "# 재현성을 위해 시드값 배정\n",
        "np.random.seed(20231106)"
      ],
      "metadata": {
        "id": "zCGUhU6f9Jh0",
        "colab": {
          "base_uri": "https://localhost:8080/"
        },
        "outputId": "143b0cda-c1cc-43d6-bed3-5ba2107d351c"
      },
      "execution_count": 2,
      "outputs": [
        {
          "output_type": "stream",
          "name": "stderr",
          "text": [
            "WARNING:deepchem.feat.molecule_featurizers.rdkit_descriptors:No normalization for SPS. Feature removed!\n",
            "WARNING:deepchem.feat.molecule_featurizers.rdkit_descriptors:No normalization for AvgIpc. Feature removed!\n",
            "WARNING:deepchem.models.torch_models:Skipped loading modules with pytorch-geometric dependency, missing a dependency. No module named 'dgl'\n",
            "WARNING:deepchem.models.torch_models:Skipped loading modules with transformers dependency. No module named 'transformers'\n",
            "WARNING:deepchem.models:cannot import name 'HuggingFaceModel' from 'deepchem.models.torch_models' (/usr/local/lib/python3.10/dist-packages/deepchem/models/torch_models/__init__.py)\n"
          ]
        }
      ]
    },
    {
      "cell_type": "markdown",
      "source": [
        "### **1. 분자 데이터 피처화**\n",
        "\n",
        "실제로 분자 데이터를 머신러닝 모델에 입력하기 위해서는 해당 데이터를 피쳐 데이터로 변환하는 과정이 필요함.\n",
        "***"
      ],
      "metadata": {
        "id": "NJbEkrnh6EIp"
      }
    },
    {
      "cell_type": "markdown",
      "source": [
        "#### (1) 확장 연결 지문 (Extended-Connectivity FingerPrint)\n",
        "\n",
        "화학 지문 (Chemical fingerprint)은 분자의 특성 유무를 1과 0으로 나타낸 백터\n",
        "\n",
        "확장 연결 지문 (ECFP)은 화학 지문의 몇 가지 유용한 특성을 결합한 피쳐화 방법으로 임의의 크기를 고정 길이의 벡터로 변환\n",
        "\n",
        "\n",
        "<font color=red>📌 **ECFC 장점 :**</font>\n",
        "1. 대부분 머신러닝 모델은 입력값으로 동일한 크기의 벡터를 사용해야 하므로 ECFC는 서로 다른 크기의 분자를 갖고 동일한 학습 모델을 사용할 수 있음.\n",
        "2. ECFC로 변환하면 서로 비교하기 쉽다. (두 개의 분자에 대해 일치한 벡터 값들이 많을 수록 분자가 유사하다고 간주)\n",
        "3. ECFC는 계산을 빠르게 할 수 있음.\n",
        "\n",
        "<font color=red>📌 **ECFC 단점 :**</font>\n",
        "분자에 대한 많은 정보를 담고 있지만 일부 정보는 손실될 수 있다.\n",
        "\n",
        "  (ex) 두 개의 다른 분자가 똑같은 화학 지문을 가질 수 있기 때문에 화학 지문만 주어지면 어떤 분자에서 왔는지를 알아내는 것은 불가능함.\n",
        "\n",
        "\n",
        "**화학 지문의 각 요소는 특정 원자의 특성 유무를 나타냄.**\n",
        "\n",
        "확장 연결 지문 피처화는 모든 원자를 독립적으로 고려해 원자의 특성, 공유 결합의 수 등을 조사."
      ],
      "metadata": {
        "id": "abnLsvQq79XN"
      }
    },
    {
      "cell_type": "code",
      "source": [
        "# SMILES는 분자의 화학식을 문자열로 나타내는 데 널리 사용되는 방법.\n",
        "smiles = ['C1CCCCC1', 'O1CCOCC1'] # cyclonhexane과 dioxane\n",
        "\n",
        "# RDKit 라이브러리를 활용해 ECFP4 알고리즘 수행\n",
        "mols = [Chem.MolFromSmiles(smile) for smile in smiles]\n",
        "feat = dc.feat.CircularFingerprint(size = 1024)\n",
        "\n",
        "# dc.feat.CircularFingerprint 클래스 상속\n",
        "arr = feat.featurize(mols)\n",
        "print(arr)"
      ],
      "metadata": {
        "id": "rkWpRixG6DoD",
        "colab": {
          "base_uri": "https://localhost:8080/"
        },
        "outputId": "5e2d9ed7-3f74-4202-9047-08ec94d553b6"
      },
      "execution_count": 3,
      "outputs": [
        {
          "output_type": "stream",
          "name": "stdout",
          "text": [
            "[[0. 0. 1. ... 0. 0. 0.]\n",
            " [0. 0. 0. ... 0. 0. 0.]]\n"
          ]
        }
      ]
    },
    {
      "cell_type": "markdown",
      "source": [
        "#### (2) 분자 표현자 (Molecular descriptor)\n",
        "\n",
        "분자 데이터 기록은 대개 분자의 구조를 설명를 설명하는 다양한 계산 값을 포함함.\n",
        "\n",
        "(ex) 분배 계수, 극성 표면적..\n",
        "\n",
        "분자 표현자 피처화는 상대적으로 분자의 일반적인 특성에 의존하는 것을 예측할 때 가장 잘 작동함.\n",
        "\n",
        "하지만 원자의 상세한 배열에 의존하는 특성을 예측하는 데는 효과가 좋지 않음."
      ],
      "metadata": {
        "id": "mnhUcleZ-jVo"
      }
    },
    {
      "cell_type": "code",
      "execution_count": 4,
      "metadata": {
        "id": "WBjnUhFX4sWY",
        "colab": {
          "base_uri": "https://localhost:8080/"
        },
        "outputId": "992d1c6c-3aa2-4cff-c059-1c4cd6a9da19"
      },
      "outputs": [
        {
          "output_type": "stream",
          "name": "stdout",
          "text": [
            "[[ 1.71997309e+00  1.94969403e+00 -2.05230597e+00  2.14710000e+00\n",
            "  -1.85490000e+00  4.50600000e+00  5.04000000e-01  1.40140000e+01\n",
            "   1.00120000e+01  2.00000000e+00  1.55097750e+01  4.24264069e+00\n",
            "   4.24264069e+00  4.24264069e+00  3.00000000e+00  3.00000000e+00\n",
            "   3.00000000e+00  2.12132034e+00  2.12132034e+00  1.50000000e+00\n",
            "   1.50000000e+00  1.06066017e+00  1.06066017e+00  0.00000000e+00\n",
            "   0.00000000e+00  0.00000000e+00  0.00000000e+00  0.00000000e+00\n",
            "   0.00000000e+00  3.85249297e+01  0.00000000e+00  0.00000000e+00\n",
            "   0.00000000e+00  0.00000000e+00  8.40939004e+01  3.33333333e-01\n",
            "   5.00000000e-01  6.66666667e-01  1.00000000e+00  0.00000000e+00\n",
            "   6.00000000e+00  7.20660000e+01  1.71997309e+00  4.16666667e+00\n",
            "   2.22222222e+00  1.00000000e+00  3.95581304e+01  1.50000000e+00\n",
            "   5.33059728e-02  1.50000000e+00 -5.33059728e-02  1.50000000e+00\n",
            "   5.33059728e-02  1.50000000e+00 -5.33059728e-02  2.34060000e+00\n",
            "   2.77020000e+01  8.41620000e+01  0.00000000e+00  0.00000000e+00\n",
            "   1.00000000e+00  0.00000000e+00  1.00000000e+00  0.00000000e+00\n",
            "   0.00000000e+00  0.00000000e+00  0.00000000e+00  0.00000000e+00\n",
            "   0.00000000e+00  0.00000000e+00  0.00000000e+00  1.00000000e+00\n",
            "   0.00000000e+00  1.00000000e+00  3.60000000e+01  0.00000000e+00\n",
            "   0.00000000e+00  0.00000000e+00  0.00000000e+00  0.00000000e+00\n",
            "   0.00000000e+00  0.00000000e+00  0.00000000e+00  0.00000000e+00\n",
            "   0.00000000e+00  3.85249297e+01  0.00000000e+00  0.00000000e+00\n",
            "   0.00000000e+00  1.00000000e+00  0.00000000e+00  0.00000000e+00\n",
            "   0.00000000e+00  0.00000000e+00  0.00000000e+00  3.85249297e+01\n",
            "   0.00000000e+00  0.00000000e+00  0.00000000e+00  0.00000000e+00\n",
            "   2.40000000e+01  0.00000000e+00  0.00000000e+00  0.00000000e+00\n",
            "   0.00000000e+00  0.00000000e+00  0.00000000e+00  0.00000000e+00\n",
            "   3.85249297e+01  0.00000000e+00  0.00000000e+00  0.00000000e+00\n",
            "   0.00000000e+00  0.00000000e+00  0.00000000e+00  0.00000000e+00\n",
            "   0.00000000e+00  0.00000000e+00  0.00000000e+00  0.00000000e+00\n",
            "   0.00000000e+00  9.00000000e+00  0.00000000e+00  0.00000000e+00\n",
            "   0.00000000e+00  0.00000000e+00  0.00000000e+00  0.00000000e+00\n",
            "   0.00000000e+00  0.00000000e+00  0.00000000e+00  0.00000000e+00\n",
            "   0.00000000e+00  0.00000000e+00  0.00000000e+00  0.00000000e+00\n",
            "   0.00000000e+00  0.00000000e+00  0.00000000e+00  0.00000000e+00\n",
            "   0.00000000e+00  0.00000000e+00  0.00000000e+00  0.00000000e+00\n",
            "   0.00000000e+00  0.00000000e+00  0.00000000e+00  0.00000000e+00\n",
            "   0.00000000e+00  0.00000000e+00  0.00000000e+00  0.00000000e+00\n",
            "   0.00000000e+00  0.00000000e+00  0.00000000e+00  0.00000000e+00\n",
            "   0.00000000e+00  0.00000000e+00  0.00000000e+00  0.00000000e+00\n",
            "   0.00000000e+00  0.00000000e+00  0.00000000e+00  0.00000000e+00\n",
            "   0.00000000e+00  0.00000000e+00  0.00000000e+00  0.00000000e+00\n",
            "   0.00000000e+00  0.00000000e+00  0.00000000e+00  0.00000000e+00\n",
            "   0.00000000e+00  0.00000000e+00  0.00000000e+00  0.00000000e+00\n",
            "   0.00000000e+00  0.00000000e+00  0.00000000e+00  0.00000000e+00\n",
            "   0.00000000e+00  0.00000000e+00  0.00000000e+00  0.00000000e+00\n",
            "   0.00000000e+00  0.00000000e+00  0.00000000e+00  0.00000000e+00\n",
            "   0.00000000e+00  0.00000000e+00  0.00000000e+00  0.00000000e+00\n",
            "   0.00000000e+00  0.00000000e+00  0.00000000e+00  0.00000000e+00\n",
            "   0.00000000e+00  0.00000000e+00  0.00000000e+00  0.00000000e+00\n",
            "   0.00000000e+00  0.00000000e+00  0.00000000e+00  0.00000000e+00\n",
            "   0.00000000e+00  0.00000000e+00  0.00000000e+00  0.00000000e+00\n",
            "   0.00000000e+00  4.22316187e-01]\n",
            " [ 1.71997309e+00  1.93819829e+00 -2.09330369e+00  1.84590391e+00\n",
            "  -2.15879940e+00  4.36597995e+00 -3.33582059e-02  1.65643008e+01\n",
            "   1.06385718e+01  2.00000000e+00  2.10195500e+01  4.24264069e+00\n",
            "   3.64492371e+00  3.64492371e+00  3.00000000e+00  2.15470054e+00\n",
            "   2.15470054e+00  1.22474487e+00  1.22474487e+00  7.44016936e-01\n",
            "   7.44016936e-01  4.39826406e-01  4.39826406e-01  0.00000000e+00\n",
            "   0.00000000e+00  0.00000000e+00  0.00000000e+00  0.00000000e+00\n",
            "   2.64275279e+01  0.00000000e+00  0.00000000e+00  0.00000000e+00\n",
            "   0.00000000e+00  9.47372591e+00  8.80524295e+01  6.66666667e-01\n",
            "   1.00000000e+00  1.16666667e+00  1.00000000e+00 -8.00000000e-02\n",
            "   6.00000000e+00  8.00420000e+01  1.71997309e+00  4.08891892e+00\n",
            "   2.15721695e+00  9.53692476e-01  3.70553367e+01  4.94444444e+00\n",
            "   3.76667636e-01  4.94444444e+00  7.01143955e-02  7.77777778e-01\n",
            "   7.01143955e-02  7.77777778e-01 -3.76667636e-01  3.32000000e-02\n",
            "   2.16380000e+01  8.81060000e+01  0.00000000e+00  2.00000000e+00\n",
            "   0.00000000e+00  1.00000000e+00  1.00000000e+00  0.00000000e+00\n",
            "   0.00000000e+00  0.00000000e+00  2.00000000e+00  0.00000000e+00\n",
            "   2.00000000e+00  0.00000000e+00  0.00000000e+00  0.00000000e+00\n",
            "   1.00000000e+00  1.00000000e+00  3.60000000e+01  9.47372591e+00\n",
            "   0.00000000e+00  0.00000000e+00  0.00000000e+00  0.00000000e+00\n",
            "   0.00000000e+00  0.00000000e+00  0.00000000e+00  0.00000000e+00\n",
            "   0.00000000e+00  0.00000000e+00  0.00000000e+00  0.00000000e+00\n",
            "   2.64275279e+01  1.00000000e+00  9.47372591e+00  0.00000000e+00\n",
            "   0.00000000e+00  0.00000000e+00  0.00000000e+00  0.00000000e+00\n",
            "   2.64275279e+01  0.00000000e+00  0.00000000e+00  0.00000000e+00\n",
            "   2.40000000e+01  0.00000000e+00  0.00000000e+00  0.00000000e+00\n",
            "   0.00000000e+00  2.64275279e+01  9.47372591e+00  0.00000000e+00\n",
            "   0.00000000e+00  0.00000000e+00  0.00000000e+00  0.00000000e+00\n",
            "   0.00000000e+00  1.84600000e+01  9.88888889e+00  0.00000000e+00\n",
            "   0.00000000e+00  0.00000000e+00  0.00000000e+00  0.00000000e+00\n",
            "   0.00000000e+00  0.00000000e+00  3.11111111e+00  0.00000000e+00\n",
            "   0.00000000e+00  0.00000000e+00  0.00000000e+00  0.00000000e+00\n",
            "   0.00000000e+00  0.00000000e+00  0.00000000e+00  0.00000000e+00\n",
            "   0.00000000e+00  0.00000000e+00  0.00000000e+00  0.00000000e+00\n",
            "   0.00000000e+00  0.00000000e+00  0.00000000e+00  0.00000000e+00\n",
            "   0.00000000e+00  0.00000000e+00  0.00000000e+00  0.00000000e+00\n",
            "   0.00000000e+00  0.00000000e+00  0.00000000e+00  0.00000000e+00\n",
            "   0.00000000e+00  0.00000000e+00  0.00000000e+00  0.00000000e+00\n",
            "   0.00000000e+00  0.00000000e+00  0.00000000e+00  0.00000000e+00\n",
            "   0.00000000e+00  0.00000000e+00  0.00000000e+00  0.00000000e+00\n",
            "   0.00000000e+00  0.00000000e+00  0.00000000e+00  0.00000000e+00\n",
            "   0.00000000e+00  2.00000000e+00  0.00000000e+00  0.00000000e+00\n",
            "   0.00000000e+00  0.00000000e+00  0.00000000e+00  0.00000000e+00\n",
            "   0.00000000e+00  0.00000000e+00  0.00000000e+00  0.00000000e+00\n",
            "   0.00000000e+00  0.00000000e+00  0.00000000e+00  0.00000000e+00\n",
            "   0.00000000e+00  0.00000000e+00  0.00000000e+00  0.00000000e+00\n",
            "   0.00000000e+00  0.00000000e+00  0.00000000e+00  0.00000000e+00\n",
            "   0.00000000e+00  0.00000000e+00  0.00000000e+00  0.00000000e+00\n",
            "   0.00000000e+00  0.00000000e+00  0.00000000e+00  0.00000000e+00\n",
            "   0.00000000e+00  0.00000000e+00  0.00000000e+00  0.00000000e+00\n",
            "   0.00000000e+00  0.00000000e+00  0.00000000e+00  0.00000000e+00\n",
            "   0.00000000e+00  0.00000000e+00  0.00000000e+00  0.00000000e+00\n",
            "   0.00000000e+00  4.15749250e-01]]\n"
          ]
        }
      ],
      "source": [
        "# RDKit 라이브러리는 분자에서 분자 표현자를 계산하는 것을 제공\n",
        "feat = dc.feat.RDKitDescriptors()\n",
        "arr = feat.featurize(mols)\n",
        "print(arr)"
      ]
    },
    {
      "cell_type": "markdown",
      "source": [
        "### **2. 용해도 예측 모델**\n",
        "\n",
        "분자의 중요한 특성인 용해도 (solubility)를 예측하기 위해 실제 데이터셋으로 머신러닝을 해본다."
      ],
      "metadata": {
        "id": "tyLWrFUd_0d3"
      }
    },
    {
      "cell_type": "code",
      "source": [
        "# 학습에 사용할 데이터셋\n",
        "tasks, datasets, transformers = dc.molnet.load_delaney(featurizer = 'GraphConv') # featurizer = 'GraphCov' : 그래프 합성곱 모델\n",
        "train_dataset, valid_dataset, test_dataset = datasets"
      ],
      "metadata": {
        "id": "iwOOECz-_Nah"
      },
      "execution_count": 5,
      "outputs": []
    },
    {
      "cell_type": "code",
      "source": [
        "# 모델 생성\n",
        "model = dc.models.GraphConvModel(n_tasks = 1, # 각 샘플에 대한 작업 수\n",
        "                                 mode = 'regression', # 어떤 모델을 만들 것인가?\n",
        "                                 dropout = 0.2 # 합성곱 계층 출력값 중 20%가 임의로 제거\n",
        "                                 )"
      ],
      "metadata": {
        "id": "1toB8oIVAbRt"
      },
      "execution_count": 6,
      "outputs": []
    },
    {
      "cell_type": "code",
      "source": [
        "# 모델 학습\n",
        "model.fit(train_dataset, nb_epoch = 100)"
      ],
      "metadata": {
        "colab": {
          "base_uri": "https://localhost:8080/"
        },
        "id": "0BXoXksoBCkt",
        "outputId": "bcb3e41d-4504-4195-9155-800f00b2cd86"
      },
      "execution_count": 7,
      "outputs": [
        {
          "output_type": "execute_result",
          "data": {
            "text/plain": [
              "0.10630843162536621"
            ]
          },
          "metadata": {},
          "execution_count": 7
        }
      ]
    },
    {
      "cell_type": "code",
      "source": [
        "# 모델 성능 평가\n",
        "# 평가 지표는 피어슨 상관계수로 정의\n",
        "metric = dc.metrics.Metric(dc.metrics.pearson_r2_score)\n",
        "\n",
        "print(\"Training set score\")\n",
        "print(model.evaluate(train_dataset, [metric], transformers))\n",
        "\n",
        "print(\"Test set score\")\n",
        "print(model.evaluate(test_dataset, [metric], transformers))"
      ],
      "metadata": {
        "colab": {
          "base_uri": "https://localhost:8080/"
        },
        "id": "Dp3Qr9wGBNJ5",
        "outputId": "2c79b727-53be-4b1c-9f93-6d0f2650775f"
      },
      "execution_count": 8,
      "outputs": [
        {
          "output_type": "stream",
          "name": "stdout",
          "text": [
            "Training set score\n",
            "{'pearson_r2_score': 0.9231390475897865}\n",
            "Test set score\n",
            "{'pearson_r2_score': 0.6241926613712173}\n"
          ]
        }
      ]
    },
    {
      "cell_type": "code",
      "source": [
        "# 새로운 분자의 용해도 예측\n",
        "# 무작위로 5개의 분자를 SMILES 문자열로 표현\n",
        "smiles = ['COC(C)(C)CCCC(C)CC=CC(C)=CC(=O)OC(C)C',\n",
        "          'CCOC(=O)CC',\n",
        "          'CSc1nc(NC(C)C)nc(NC(C)C)n1',\n",
        "          'CC(C#C)N(C)C(=O)Nc1ccc(Cl)cc1',\n",
        "          'Cc1cc2ccccc2cc1C']"
      ],
      "metadata": {
        "id": "YrA_LPGBBdWY"
      },
      "execution_count": 9,
      "outputs": []
    },
    {
      "cell_type": "code",
      "source": [
        "# RDKit을 사용해 해당 SMILES 문자열을 분석한 다음\n",
        "# DeepChem으로 그래프 합성곱의 입력 형식으로 변환\n",
        "mols = [Chem.MolFromSmiles(s) for s in smiles]\n",
        "featurizer = dc.feat.ConvMolFeaturizer()\n",
        "x = featurizer.featurize(mols)"
      ],
      "metadata": {
        "id": "Xf4K77gQB_X4"
      },
      "execution_count": 10,
      "outputs": []
    },
    {
      "cell_type": "code",
      "source": [
        "# 해당 5개의 분자에 대한 용해도 예측\n",
        "predicted_solubility = model.predict_on_batch(x)\n",
        "\n",
        "for m,s in zip(smiles, predicted_solubility):\n",
        "    print()\n",
        "    print('Molecule:', m)\n",
        "    print('Predicted solubility:', s)"
      ],
      "metadata": {
        "colab": {
          "base_uri": "https://localhost:8080/"
        },
        "id": "OZt0_Q_PCQ7U",
        "outputId": "95db877b-6944-4651-e629-24b102c014aa"
      },
      "execution_count": 11,
      "outputs": [
        {
          "output_type": "stream",
          "name": "stdout",
          "text": [
            "\n",
            "Molecule: COC(C)(C)CCCC(C)CC=CC(C)=CC(=O)OC(C)C\n",
            "Predicted solubility: [-0.8102088]\n",
            "\n",
            "Molecule: CCOC(=O)CC\n",
            "Predicted solubility: [1.6032393]\n",
            "\n",
            "Molecule: CSc1nc(NC(C)C)nc(NC(C)C)n1\n",
            "Predicted solubility: [0.10788956]\n",
            "\n",
            "Molecule: CC(C#C)N(C)C(=O)Nc1ccc(Cl)cc1\n",
            "Predicted solubility: [0.0559276]\n",
            "\n",
            "Molecule: Cc1cc2ccccc2cc1C\n",
            "Predicted solubility: [-0.55009484]\n"
          ]
        }
      ]
    },
    {
      "cell_type": "markdown",
      "source": [
        "### **3. MoleculeNet**\n",
        "\n",
        "MoleculeNet은 다양한 분자 데이터셋을 제공함! (주로 학습용 분자 데이터셋)\n",
        "\n",
        "따라서 연구자들이 분자의 양자 물리학, 화학, 생물물리학, 생리학적 특성을 예측하는 데 유용함.\n",
        "\n",
        "![nn](https://pubs.rsc.org/image/article/2018/SC/c7sc02664a/c7sc02664a-f2_hi-res.gif)\n",
        "\n",
        "만약 새로운 머신러닝 모델을 만들었다면, 해당 데이터셋을 사용해 성능을 측정할 수 있음.\n",
        "\n",
        "[홈페이지](https://moleculenet.org/)에 접속하면 다양한 머신러닝 모델의 성능을 비교한 표를 볼 수 있음."
      ],
      "metadata": {
        "id": "H5nkB3qnCmdA"
      }
    },
    {
      "cell_type": "markdown",
      "source": [
        "### **4. SMARTS 문자열**\n",
        "\n",
        "일반적인 문서 작성 프로그램에서 특정 문자를 검색하는 것처럼 생명정보학에서도 분자 내 원자들의 특정 패턴을 찾고자 하는 상황이 존재함.\n",
        "\n",
        "1. 분자 데이터베이스에서 특정 구조를 포함하는 분자를 검색\n",
        "2. 공통된 구조를 가진 분자들의 집합을 정렬해 시각화\n",
        "3. 그림에서 하위 구조를 강조\n",
        "4. 특정 구조를 제외한 계산 값이 필요할 때\n",
        "\n",
        "<font color=red>**SMARTS 문자열**</font>은 앞서 설명한 SMILES 문자열의 확장 표현으로 검색어를 만드는 데 사용.\n",
        "\n",
        "따라서 모든 SMILES 문자열은 SMARTS 문자열이 될 수 있음."
      ],
      "metadata": {
        "id": "t7vzZ0y5-bDW"
      }
    },
    {
      "cell_type": "code",
      "source": [
        "# 필요한 라이브러리를 불러오기\n",
        "from rdkit import Chem\n",
        "from rdkit.Chem.Draw import MolsToGridImage"
      ],
      "metadata": {
        "id": "OV8yc3XrCqPY"
      },
      "execution_count": 12,
      "outputs": []
    },
    {
      "cell_type": "code",
      "source": [
        "# 해당 SMILES 문자열로 분자들을 목록을 생성\n",
        "smiles_list = ['CCCCC', 'CCOCC', 'CCNCC', 'CCSCC']\n",
        "mol_list = [Chem.MolFromSmiles(x) for x in smiles_list]\n",
        "\n",
        "# 해당 SMILES를 이미지로 시각화\n",
        "MolsToGridImage(mols = mol_list,\n",
        "                molsPerRow = 4\n",
        ")"
      ],
      "metadata": {
        "colab": {
          "base_uri": "https://localhost:8080/",
          "height": 217
        },
        "id": "lFTUblD1_U_p",
        "outputId": "32669453-5377-4842-c549-e0254d5b0a09"
      },
      "execution_count": 13,
      "outputs": [
        {
          "output_type": "execute_result",
          "data": {
            "image/png": "[encoded data removed]",
            "text/plain": [
              "<IPython.core.display.Image object>"
            ]
          },
          "metadata": {},
          "execution_count": 13
        }
      ]
    },
    {
      "cell_type": "code",
      "source": [
        "# 어떤 SMILES 문자열이 SMARTS 패턴 'CCC'와 일치하는지 확인\n",
        "query = Chem.MolFromSmarts('CCC')\n",
        "match_list = [mol.GetSubstructMatch(query) for mol in mol_list]\n",
        "MolsToGridImage(mols = mol_list,\n",
        "                molsPerRow = 4,\n",
        "                highlightAtomLists = match_list\n",
        ")"
      ],
      "metadata": {
        "colab": {
          "base_uri": "https://localhost:8080/",
          "height": 217
        },
        "id": "qCMvY0Ys_6ii",
        "outputId": "8a657b87-3f80-43c3-9b6f-703cf4075e34"
      },
      "execution_count": 14,
      "outputs": [
        {
          "output_type": "execute_result",
          "data": {
            "image/png": "[encoded data removed]",
            "text/plain": [
              "<IPython.core.display.Image object>"
            ]
          },
          "metadata": {},
          "execution_count": 14
        }
      ]
    },
    {
      "cell_type": "code",
      "source": [
        "# 어떤 SMILES 문자열이 SMARTS 패턴 'C*C'와 일치하는지 확인\n",
        "query = Chem.MolFromSmarts('C*C')\n",
        "match_list = [mol.GetSubstructMatch(query) for mol in mol_list]\n",
        "MolsToGridImage(mols = mol_list,\n",
        "                molsPerRow = 4,\n",
        "                highlightAtomLists = match_list\n",
        ")"
      ],
      "metadata": {
        "colab": {
          "base_uri": "https://localhost:8080/",
          "height": 217
        },
        "id": "5Eq7jybEAlYM",
        "outputId": "fc16bc28-940e-4743-866d-5acfcf58a753"
      },
      "execution_count": 15,
      "outputs": [
        {
          "output_type": "execute_result",
          "data": {
            "image/png": "[encoded data removed]",
            "text/plain": [
              "<IPython.core.display.Image object>"
            ]
          },
          "metadata": {},
          "execution_count": 15
        }
      ]
    },
    {
      "cell_type": "code",
      "source": [
        "# 어떤 SMILES 문자열이 SMARTS 패턴 'C[C,O,N]C'와 일치하는지 확인\n",
        "# 여기서 [C,O,N]는 두 개의 탄소 원자 사이에 탄소, 산소 혹은 질소 원자 하나가 결합되어 있다는 의미.\n",
        "query = Chem.MolFromSmarts('C[C,O,N]C')\n",
        "match_list = [mol.GetSubstructMatch(query) for mol in mol_list]\n",
        "MolsToGridImage(mols = mol_list,\n",
        "                molsPerRow = 4,\n",
        "                highlightAtomLists = match_list\n",
        ")"
      ],
      "metadata": {
        "colab": {
          "base_uri": "https://localhost:8080/",
          "height": 217
        },
        "id": "rN0rMlYVAx-Z",
        "outputId": "7a8f5f5a-7bc8-465f-a800-95d1887321ef"
      },
      "execution_count": 16,
      "outputs": [
        {
          "output_type": "execute_result",
          "data": {
            "image/png": "[encoded data removed]",
            "text/plain": [
              "<IPython.core.display.Image object>"
            ]
          },
          "metadata": {},
          "execution_count": 16
        }
      ]
    }
  ]
}