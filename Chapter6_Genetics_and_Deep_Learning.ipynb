{
  "cells": [
    {
      "cell_type": "markdown",
      "metadata": {
        "id": "view-in-github",
        "colab_type": "text"
      },
      "source": [
        "<a href=\"https://colab.research.google.com/github/jeong2624/Deep-Learning-for-the-Life-Sciences-coding-transcription/blob/main/Chapter6_Genetics_and_Deep_Learning.ipynb\" target=\"_parent\"><img src=\"https://colab.research.google.com/assets/colab-badge.svg\" alt=\"Open In Colab\"/></a>"
      ]
    },
    {
      "cell_type": "markdown",
      "metadata": {
        "id": "c-9c43N6Oy8f"
      },
      "source": [
        "## **Genetics and Deep Learning**\n",
        "\n",
        "해당 Chapter에서는 딥러닝을 활용하여 유전체학에 적용한 사례를 살펴본다.\n",
        "\n",
        "* 모든 생물은 유전체 (Genome)을 갖고 있으며, 유전체를 구성하는 DNA에는 생물이 살아가는 데 필요한 모든 정보가 들어있음.\n",
        "\n",
        "* 즉, 세포가 컴퓨터라면 유전체는 실행되는 소프트웨어라고 볼 수 있으며 DNA는 세포에 의해 처리된 정보라고 할 수 있음.\n",
        "\n",
        "* DNA는 추상적인 저장 매체가 아니라 더 복잡한 방식으로 움직이는 물리적인 분자이며, 또한 수천 개의 다른 분자와 상호작용하며 DNA에 포함된 정보를 유지, 복사, 수행하는 역할을 함.\n",
        "\n",
        "* 이러한 특징 때문에 여전히 과학자들은 유전체가 어떻게 작동하는지 잘 이해하지 못하고 있음.\n",
        "\n",
        "* 머신러닝이 유전체 분야에서 강력한 도구로 이용하고 있는데, 유전체 데이터는 엄청난 양의 데이터를 가지고 있고 놀라울 정도로 복잡하고 잘 이해되지 않음에도 불구하고 미묘한 패턴을 발견하는 것이 딥러닝이 잘하는 것이기 때문."
      ]
    },
    {
      "cell_type": "code",
      "execution_count": 1,
      "metadata": {
        "colab": {
          "base_uri": "https://localhost:8080/"
        },
        "id": "BEutD40NQwIw",
        "outputId": "358ae9a1-d583-481d-cbc8-c0d78ac779cb"
      },
      "outputs": [
        {
          "output_type": "stream",
          "name": "stdout",
          "text": [
            "Collecting deepchem\n",
            "  Downloading deepchem-2.7.2.dev20231110055545-py3-none-any.whl (900 kB)\n",
            "\u001b[2K     \u001b[90m━━━━━━━━━━━━━━━━━━━━━━━━━━━━━━━━━━━━━━━━\u001b[0m \u001b[32m900.7/900.7 kB\u001b[0m \u001b[31m7.5 MB/s\u001b[0m eta \u001b[36m0:00:00\u001b[0m\n",
            "\u001b[?25hRequirement already satisfied: joblib in /usr/local/lib/python3.10/dist-packages (from deepchem) (1.3.2)\n",
            "Requirement already satisfied: numpy>=1.21 in /usr/local/lib/python3.10/dist-packages (from deepchem) (1.23.5)\n",
            "Requirement already satisfied: pandas in /usr/local/lib/python3.10/dist-packages (from deepchem) (1.5.3)\n",
            "Requirement already satisfied: scikit-learn in /usr/local/lib/python3.10/dist-packages (from deepchem) (1.2.2)\n",
            "Requirement already satisfied: sympy in /usr/local/lib/python3.10/dist-packages (from deepchem) (1.12)\n",
            "Requirement already satisfied: scipy>=1.10.1 in /usr/local/lib/python3.10/dist-packages (from deepchem) (1.11.3)\n",
            "Collecting rdkit (from deepchem)\n",
            "  Downloading rdkit-2023.9.1-cp310-cp310-manylinux_2_17_x86_64.manylinux2014_x86_64.whl (30.5 MB)\n",
            "\u001b[2K     \u001b[90m━━━━━━━━━━━━━━━━━━━━━━━━━━━━━━━━━━━━━━━━\u001b[0m \u001b[32m30.5/30.5 MB\u001b[0m \u001b[31m56.1 MB/s\u001b[0m eta \u001b[36m0:00:00\u001b[0m\n",
            "\u001b[?25hRequirement already satisfied: python-dateutil>=2.8.1 in /usr/local/lib/python3.10/dist-packages (from pandas->deepchem) (2.8.2)\n",
            "Requirement already satisfied: pytz>=2020.1 in /usr/local/lib/python3.10/dist-packages (from pandas->deepchem) (2023.3.post1)\n",
            "Requirement already satisfied: Pillow in /usr/local/lib/python3.10/dist-packages (from rdkit->deepchem) (9.4.0)\n",
            "Requirement already satisfied: threadpoolctl>=2.0.0 in /usr/local/lib/python3.10/dist-packages (from scikit-learn->deepchem) (3.2.0)\n",
            "Requirement already satisfied: mpmath>=0.19 in /usr/local/lib/python3.10/dist-packages (from sympy->deepchem) (1.3.0)\n",
            "Requirement already satisfied: six>=1.5 in /usr/local/lib/python3.10/dist-packages (from python-dateutil>=2.8.1->pandas->deepchem) (1.16.0)\n",
            "Installing collected packages: rdkit, deepchem\n",
            "Successfully installed deepchem-2.7.2.dev20231110055545 rdkit-2023.9.1\n",
            "Requirement already satisfied: numpy in /usr/local/lib/python3.10/dist-packages (1.23.5)\n",
            "Collecting torch_geometric\n",
            "  Downloading torch_geometric-2.4.0-py3-none-any.whl (1.0 MB)\n",
            "\u001b[2K     \u001b[90m━━━━━━━━━━━━━━━━━━━━━━━━━━━━━━━━━━━━━━━━\u001b[0m \u001b[32m1.0/1.0 MB\u001b[0m \u001b[31m4.6 MB/s\u001b[0m eta \u001b[36m0:00:00\u001b[0m\n",
            "\u001b[?25hCollecting pytorch_lightning\n",
            "  Downloading pytorch_lightning-2.1.1-py3-none-any.whl (776 kB)\n",
            "\u001b[2K     \u001b[90m━━━━━━━━━━━━━━━━━━━━━━━━━━━━━━━━━━━━━━━━\u001b[0m \u001b[32m776.3/776.3 kB\u001b[0m \u001b[31m12.4 MB/s\u001b[0m eta \u001b[36m0:00:00\u001b[0m\n",
            "\u001b[?25hCollecting dm-haiku\n",
            "  Downloading dm_haiku-0.0.11-py3-none-any.whl (370 kB)\n",
            "\u001b[2K     \u001b[90m━━━━━━━━━━━━━━━━━━━━━━━━━━━━━━━━━━━━━━━━\u001b[0m \u001b[32m371.0/371.0 kB\u001b[0m \u001b[31m10.7 MB/s\u001b[0m eta \u001b[36m0:00:00\u001b[0m\n",
            "\u001b[?25hRequirement already satisfied: tqdm in /usr/local/lib/python3.10/dist-packages (from torch_geometric) (4.66.1)\n",
            "Requirement already satisfied: scipy in /usr/local/lib/python3.10/dist-packages (from torch_geometric) (1.11.3)\n",
            "Requirement already satisfied: jinja2 in /usr/local/lib/python3.10/dist-packages (from torch_geometric) (3.1.2)\n",
            "Requirement already satisfied: requests in /usr/local/lib/python3.10/dist-packages (from torch_geometric) (2.31.0)\n",
            "Requirement already satisfied: pyparsing in /usr/local/lib/python3.10/dist-packages (from torch_geometric) (3.1.1)\n",
            "Requirement already satisfied: scikit-learn in /usr/local/lib/python3.10/dist-packages (from torch_geometric) (1.2.2)\n",
            "Requirement already satisfied: psutil>=5.8.0 in /usr/local/lib/python3.10/dist-packages (from torch_geometric) (5.9.5)\n",
            "Requirement already satisfied: torch>=1.12.0 in /usr/local/lib/python3.10/dist-packages (from pytorch_lightning) (2.1.0+cu118)\n",
            "Requirement already satisfied: PyYAML>=5.4 in /usr/local/lib/python3.10/dist-packages (from pytorch_lightning) (6.0.1)\n",
            "Requirement already satisfied: fsspec[http]>2021.06.0 in /usr/local/lib/python3.10/dist-packages (from pytorch_lightning) (2023.6.0)\n",
            "Collecting torchmetrics>=0.7.0 (from pytorch_lightning)\n",
            "  Downloading torchmetrics-1.2.0-py3-none-any.whl (805 kB)\n",
            "\u001b[2K     \u001b[90m━━━━━━━━━━━━━━━━━━━━━━━━━━━━━━━━━━━━━━━━\u001b[0m \u001b[32m805.2/805.2 kB\u001b[0m \u001b[31m17.9 MB/s\u001b[0m eta \u001b[36m0:00:00\u001b[0m\n",
            "\u001b[?25hRequirement already satisfied: packaging>=20.0 in /usr/local/lib/python3.10/dist-packages (from pytorch_lightning) (23.2)\n",
            "Requirement already satisfied: typing-extensions>=4.0.0 in /usr/local/lib/python3.10/dist-packages (from pytorch_lightning) (4.5.0)\n",
            "Collecting lightning-utilities>=0.8.0 (from pytorch_lightning)\n",
            "  Downloading lightning_utilities-0.9.0-py3-none-any.whl (23 kB)\n",
            "Requirement already satisfied: absl-py>=0.7.1 in /usr/local/lib/python3.10/dist-packages (from dm-haiku) (1.4.0)\n",
            "Collecting jmp>=0.0.2 (from dm-haiku)\n",
            "  Downloading jmp-0.0.4-py3-none-any.whl (18 kB)\n",
            "Requirement already satisfied: tabulate>=0.8.9 in /usr/local/lib/python3.10/dist-packages (from dm-haiku) (0.9.0)\n",
            "Requirement already satisfied: flax>=0.7.1 in /usr/local/lib/python3.10/dist-packages (from dm-haiku) (0.7.5)\n",
            "Requirement already satisfied: jax>=0.4.19 in /usr/local/lib/python3.10/dist-packages (from flax>=0.7.1->dm-haiku) (0.4.20)\n",
            "Requirement already satisfied: msgpack in /usr/local/lib/python3.10/dist-packages (from flax>=0.7.1->dm-haiku) (1.0.7)\n",
            "Requirement already satisfied: optax in /usr/local/lib/python3.10/dist-packages (from flax>=0.7.1->dm-haiku) (0.1.7)\n",
            "Requirement already satisfied: orbax-checkpoint in /usr/local/lib/python3.10/dist-packages (from flax>=0.7.1->dm-haiku) (0.4.2)\n",
            "Requirement already satisfied: tensorstore in /usr/local/lib/python3.10/dist-packages (from flax>=0.7.1->dm-haiku) (0.1.45)\n",
            "Requirement already satisfied: rich>=11.1 in /usr/local/lib/python3.10/dist-packages (from flax>=0.7.1->dm-haiku) (13.6.0)\n",
            "Requirement already satisfied: aiohttp!=4.0.0a0,!=4.0.0a1 in /usr/local/lib/python3.10/dist-packages (from fsspec[http]>2021.06.0->pytorch_lightning) (3.8.6)\n",
            "Requirement already satisfied: filelock in /usr/local/lib/python3.10/dist-packages (from torch>=1.12.0->pytorch_lightning) (3.13.1)\n",
            "Requirement already satisfied: sympy in /usr/local/lib/python3.10/dist-packages (from torch>=1.12.0->pytorch_lightning) (1.12)\n",
            "Requirement already satisfied: networkx in /usr/local/lib/python3.10/dist-packages (from torch>=1.12.0->pytorch_lightning) (3.2.1)\n",
            "Requirement already satisfied: triton==2.1.0 in /usr/local/lib/python3.10/dist-packages (from torch>=1.12.0->pytorch_lightning) (2.1.0)\n",
            "Requirement already satisfied: MarkupSafe>=2.0 in /usr/local/lib/python3.10/dist-packages (from jinja2->torch_geometric) (2.1.3)\n",
            "Requirement already satisfied: charset-normalizer<4,>=2 in /usr/local/lib/python3.10/dist-packages (from requests->torch_geometric) (3.3.2)\n",
            "Requirement already satisfied: idna<4,>=2.5 in /usr/local/lib/python3.10/dist-packages (from requests->torch_geometric) (3.4)\n",
            "Requirement already satisfied: urllib3<3,>=1.21.1 in /usr/local/lib/python3.10/dist-packages (from requests->torch_geometric) (2.0.7)\n",
            "Requirement already satisfied: certifi>=2017.4.17 in /usr/local/lib/python3.10/dist-packages (from requests->torch_geometric) (2023.7.22)\n",
            "Requirement already satisfied: joblib>=1.1.1 in /usr/local/lib/python3.10/dist-packages (from scikit-learn->torch_geometric) (1.3.2)\n",
            "Requirement already satisfied: threadpoolctl>=2.0.0 in /usr/local/lib/python3.10/dist-packages (from scikit-learn->torch_geometric) (3.2.0)\n",
            "Requirement already satisfied: attrs>=17.3.0 in /usr/local/lib/python3.10/dist-packages (from aiohttp!=4.0.0a0,!=4.0.0a1->fsspec[http]>2021.06.0->pytorch_lightning) (23.1.0)\n",
            "Requirement already satisfied: multidict<7.0,>=4.5 in /usr/local/lib/python3.10/dist-packages (from aiohttp!=4.0.0a0,!=4.0.0a1->fsspec[http]>2021.06.0->pytorch_lightning) (6.0.4)\n",
            "Requirement already satisfied: async-timeout<5.0,>=4.0.0a3 in /usr/local/lib/python3.10/dist-packages (from aiohttp!=4.0.0a0,!=4.0.0a1->fsspec[http]>2021.06.0->pytorch_lightning) (4.0.3)\n",
            "Requirement already satisfied: yarl<2.0,>=1.0 in /usr/local/lib/python3.10/dist-packages (from aiohttp!=4.0.0a0,!=4.0.0a1->fsspec[http]>2021.06.0->pytorch_lightning) (1.9.2)\n",
            "Requirement already satisfied: frozenlist>=1.1.1 in /usr/local/lib/python3.10/dist-packages (from aiohttp!=4.0.0a0,!=4.0.0a1->fsspec[http]>2021.06.0->pytorch_lightning) (1.4.0)\n",
            "Requirement already satisfied: aiosignal>=1.1.2 in /usr/local/lib/python3.10/dist-packages (from aiohttp!=4.0.0a0,!=4.0.0a1->fsspec[http]>2021.06.0->pytorch_lightning) (1.3.1)\n",
            "Requirement already satisfied: ml-dtypes>=0.2.0 in /usr/local/lib/python3.10/dist-packages (from jax>=0.4.19->flax>=0.7.1->dm-haiku) (0.2.0)\n",
            "Requirement already satisfied: opt-einsum in /usr/local/lib/python3.10/dist-packages (from jax>=0.4.19->flax>=0.7.1->dm-haiku) (3.3.0)\n",
            "Requirement already satisfied: markdown-it-py>=2.2.0 in /usr/local/lib/python3.10/dist-packages (from rich>=11.1->flax>=0.7.1->dm-haiku) (3.0.0)\n",
            "Requirement already satisfied: pygments<3.0.0,>=2.13.0 in /usr/local/lib/python3.10/dist-packages (from rich>=11.1->flax>=0.7.1->dm-haiku) (2.16.1)\n",
            "Requirement already satisfied: chex>=0.1.5 in /usr/local/lib/python3.10/dist-packages (from optax->flax>=0.7.1->dm-haiku) (0.1.7)\n",
            "Requirement already satisfied: jaxlib>=0.1.37 in /usr/local/lib/python3.10/dist-packages (from optax->flax>=0.7.1->dm-haiku) (0.4.20+cuda11.cudnn86)\n",
            "Requirement already satisfied: etils[epath,epy] in /usr/local/lib/python3.10/dist-packages (from orbax-checkpoint->flax>=0.7.1->dm-haiku) (1.5.2)\n",
            "Requirement already satisfied: nest_asyncio in /usr/local/lib/python3.10/dist-packages (from orbax-checkpoint->flax>=0.7.1->dm-haiku) (1.5.8)\n",
            "Requirement already satisfied: protobuf in /usr/local/lib/python3.10/dist-packages (from orbax-checkpoint->flax>=0.7.1->dm-haiku) (3.20.3)\n",
            "Requirement already satisfied: mpmath>=0.19 in /usr/local/lib/python3.10/dist-packages (from sympy->torch>=1.12.0->pytorch_lightning) (1.3.0)\n",
            "Requirement already satisfied: dm-tree>=0.1.5 in /usr/local/lib/python3.10/dist-packages (from chex>=0.1.5->optax->flax>=0.7.1->dm-haiku) (0.1.8)\n",
            "Requirement already satisfied: toolz>=0.9.0 in /usr/local/lib/python3.10/dist-packages (from chex>=0.1.5->optax->flax>=0.7.1->dm-haiku) (0.12.0)\n",
            "Requirement already satisfied: mdurl~=0.1 in /usr/local/lib/python3.10/dist-packages (from markdown-it-py>=2.2.0->rich>=11.1->flax>=0.7.1->dm-haiku) (0.1.2)\n",
            "Requirement already satisfied: importlib_resources in /usr/local/lib/python3.10/dist-packages (from etils[epath,epy]->orbax-checkpoint->flax>=0.7.1->dm-haiku) (6.1.1)\n",
            "Requirement already satisfied: zipp in /usr/local/lib/python3.10/dist-packages (from etils[epath,epy]->orbax-checkpoint->flax>=0.7.1->dm-haiku) (3.17.0)\n",
            "Installing collected packages: lightning-utilities, jmp, torchmetrics, torch_geometric, pytorch_lightning, dm-haiku\n",
            "Successfully installed dm-haiku-0.0.11 jmp-0.0.4 lightning-utilities-0.9.0 pytorch_lightning-2.1.1 torch_geometric-2.4.0 torchmetrics-1.2.0\n"
          ]
        }
      ],
      "source": [
        "# 필요한 라이브러리 설치\n",
        "!pip install --pre deepchem\n",
        "!pip install numpy torch_geometric pytorch_lightning dm-haiku"
      ]
    },
    {
      "cell_type": "code",
      "execution_count": 2,
      "metadata": {
        "colab": {
          "base_uri": "https://localhost:8080/"
        },
        "id": "NH3JPkXBQx0x",
        "outputId": "3cc45bc5-df66-467b-9646-bc8e04b0da10"
      },
      "outputs": [
        {
          "output_type": "stream",
          "name": "stderr",
          "text": [
            "WARNING:deepchem.feat.molecule_featurizers.rdkit_descriptors:No normalization for SPS. Feature removed!\n",
            "WARNING:deepchem.feat.molecule_featurizers.rdkit_descriptors:No normalization for AvgIpc. Feature removed!\n",
            "WARNING:deepchem.models.torch_models:Skipped loading modules with pytorch-geometric dependency, missing a dependency. No module named 'dgl'\n",
            "WARNING:deepchem.models.torch_models:Skipped loading modules with transformers dependency. No module named 'transformers'\n",
            "WARNING:deepchem.models:cannot import name 'HuggingFaceModel' from 'deepchem.models.torch_models' (/usr/local/lib/python3.10/dist-packages/deepchem/models/torch_models/__init__.py)\n"
          ]
        }
      ],
      "source": [
        "# 필요한 라이브러리 불러오기\n",
        "import deepchem as dc\n",
        "import tensorflow as tf\n",
        "import tensorflow.keras.layers as layers\n",
        "import numpy as np\n",
        "\n",
        "# 재현성을 위해 시드값 배정\n",
        "np.random.seed(20231110)"
      ]
    },
    {
      "cell_type": "code",
      "execution_count": 3,
      "metadata": {
        "colab": {
          "base_uri": "https://localhost:8080/",
          "height": 250
        },
        "id": "IeiC4aN4BOhf",
        "outputId": "322e33b7-0d66-472d-e644-f9052a91b3e6"
      },
      "outputs": [
        {
          "output_type": "display_data",
          "data": {
            "text/plain": [
              "<IPython.core.display.HTML object>"
            ],
            "text/html": [
              "\n",
              "     <input type=\"file\" id=\"files-a5453ee3-766a-4f68-ae27-50e7c90eea1d\" name=\"files[]\" multiple disabled\n",
              "        style=\"border:none\" />\n",
              "     <output id=\"result-a5453ee3-766a-4f68-ae27-50e7c90eea1d\">\n",
              "      Upload widget is only available when the cell has been executed in the\n",
              "      current browser session. Please rerun this cell to enable.\n",
              "      </output>\n",
              "      <script>// Copyright 2017 Google LLC\n",
              "//\n",
              "// Licensed under the Apache License, Version 2.0 (the \"License\");\n",
              "// you may not use this file except in compliance with the License.\n",
              "// You may obtain a copy of the License at\n",
              "//\n",
              "//      http://www.apache.org/licenses/LICENSE-2.0\n",
              "//\n",
              "// Unless required by applicable law or agreed to in writing, software\n",
              "// distributed under the License is distributed on an \"AS IS\" BASIS,\n",
              "// WITHOUT WARRANTIES OR CONDITIONS OF ANY KIND, either express or implied.\n",
              "// See the License for the specific language governing permissions and\n",
              "// limitations under the License.\n",
              "\n",
              "/**\n",
              " * @fileoverview Helpers for google.colab Python module.\n",
              " */\n",
              "(function(scope) {\n",
              "function span(text, styleAttributes = {}) {\n",
              "  const element = document.createElement('span');\n",
              "  element.textContent = text;\n",
              "  for (const key of Object.keys(styleAttributes)) {\n",
              "    element.style[key] = styleAttributes[key];\n",
              "  }\n",
              "  return element;\n",
              "}\n",
              "\n",
              "// Max number of bytes which will be uploaded at a time.\n",
              "const MAX_PAYLOAD_SIZE = 100 * 1024;\n",
              "\n",
              "function _uploadFiles(inputId, outputId) {\n",
              "  const steps = uploadFilesStep(inputId, outputId);\n",
              "  const outputElement = document.getElementById(outputId);\n",
              "  // Cache steps on the outputElement to make it available for the next call\n",
              "  // to uploadFilesContinue from Python.\n",
              "  outputElement.steps = steps;\n",
              "\n",
              "  return _uploadFilesContinue(outputId);\n",
              "}\n",
              "\n",
              "// This is roughly an async generator (not supported in the browser yet),\n",
              "// where there are multiple asynchronous steps and the Python side is going\n",
              "// to poll for completion of each step.\n",
              "// This uses a Promise to block the python side on completion of each step,\n",
              "// then passes the result of the previous step as the input to the next step.\n",
              "function _uploadFilesContinue(outputId) {\n",
              "  const outputElement = document.getElementById(outputId);\n",
              "  const steps = outputElement.steps;\n",
              "\n",
              "  const next = steps.next(outputElement.lastPromiseValue);\n",
              "  return Promise.resolve(next.value.promise).then((value) => {\n",
              "    // Cache the last promise value to make it available to the next\n",
              "    // step of the generator.\n",
              "    outputElement.lastPromiseValue = value;\n",
              "    return next.value.response;\n",
              "  });\n",
              "}\n",
              "\n",
              "/**\n",
              " * Generator function which is called between each async step of the upload\n",
              " * process.\n",
              " * @param {string} inputId Element ID of the input file picker element.\n",
              " * @param {string} outputId Element ID of the output display.\n",
              " * @return {!Iterable<!Object>} Iterable of next steps.\n",
              " */\n",
              "function* uploadFilesStep(inputId, outputId) {\n",
              "  const inputElement = document.getElementById(inputId);\n",
              "  inputElement.disabled = false;\n",
              "\n",
              "  const outputElement = document.getElementById(outputId);\n",
              "  outputElement.innerHTML = '';\n",
              "\n",
              "  const pickedPromise = new Promise((resolve) => {\n",
              "    inputElement.addEventListener('change', (e) => {\n",
              "      resolve(e.target.files);\n",
              "    });\n",
              "  });\n",
              "\n",
              "  const cancel = document.createElement('button');\n",
              "  inputElement.parentElement.appendChild(cancel);\n",
              "  cancel.textContent = 'Cancel upload';\n",
              "  const cancelPromise = new Promise((resolve) => {\n",
              "    cancel.onclick = () => {\n",
              "      resolve(null);\n",
              "    };\n",
              "  });\n",
              "\n",
              "  // Wait for the user to pick the files.\n",
              "  const files = yield {\n",
              "    promise: Promise.race([pickedPromise, cancelPromise]),\n",
              "    response: {\n",
              "      action: 'starting',\n",
              "    }\n",
              "  };\n",
              "\n",
              "  cancel.remove();\n",
              "\n",
              "  // Disable the input element since further picks are not allowed.\n",
              "  inputElement.disabled = true;\n",
              "\n",
              "  if (!files) {\n",
              "    return {\n",
              "      response: {\n",
              "        action: 'complete',\n",
              "      }\n",
              "    };\n",
              "  }\n",
              "\n",
              "  for (const file of files) {\n",
              "    const li = document.createElement('li');\n",
              "    li.append(span(file.name, {fontWeight: 'bold'}));\n",
              "    li.append(span(\n",
              "        `(${file.type || 'n/a'}) - ${file.size} bytes, ` +\n",
              "        `last modified: ${\n",
              "            file.lastModifiedDate ? file.lastModifiedDate.toLocaleDateString() :\n",
              "                                    'n/a'} - `));\n",
              "    const percent = span('0% done');\n",
              "    li.appendChild(percent);\n",
              "\n",
              "    outputElement.appendChild(li);\n",
              "\n",
              "    const fileDataPromise = new Promise((resolve) => {\n",
              "      const reader = new FileReader();\n",
              "      reader.onload = (e) => {\n",
              "        resolve(e.target.result);\n",
              "      };\n",
              "      reader.readAsArrayBuffer(file);\n",
              "    });\n",
              "    // Wait for the data to be ready.\n",
              "    let fileData = yield {\n",
              "      promise: fileDataPromise,\n",
              "      response: {\n",
              "        action: 'continue',\n",
              "      }\n",
              "    };\n",
              "\n",
              "    // Use a chunked sending to avoid message size limits. See b/62115660.\n",
              "    let position = 0;\n",
              "    do {\n",
              "      const length = Math.min(fileData.byteLength - position, MAX_PAYLOAD_SIZE);\n",
              "      const chunk = new Uint8Array(fileData, position, length);\n",
              "      position += length;\n",
              "\n",
              "      const base64 = btoa(String.fromCharCode.apply(null, chunk));\n",
              "      yield {\n",
              "        response: {\n",
              "          action: 'append',\n",
              "          file: file.name,\n",
              "          data: base64,\n",
              "        },\n",
              "      };\n",
              "\n",
              "      let percentDone = fileData.byteLength === 0 ?\n",
              "          100 :\n",
              "          Math.round((position / fileData.byteLength) * 100);\n",
              "      percent.textContent = `${percentDone}% done`;\n",
              "\n",
              "    } while (position < fileData.byteLength);\n",
              "  }\n",
              "\n",
              "  // All done.\n",
              "  yield {\n",
              "    response: {\n",
              "      action: 'complete',\n",
              "    }\n",
              "  };\n",
              "}\n",
              "\n",
              "scope.google = scope.google || {};\n",
              "scope.google.colab = scope.google.colab || {};\n",
              "scope.google.colab._files = {\n",
              "  _uploadFiles,\n",
              "  _uploadFilesContinue,\n",
              "};\n",
              "})(self);\n",
              "</script> "
            ]
          },
          "metadata": {}
        },
        {
          "output_type": "stream",
          "name": "stdout",
          "text": [
            "Saving accessibility.txt to accessibility.txt\n",
            "Saving test_dataset.zip to test_dataset.zip\n",
            "Saving train_dataset.zip to train_dataset.zip\n",
            "Saving train_siRNA.zip to train_siRNA.zip\n",
            "Saving valid_dataset.zip to valid_dataset.zip\n",
            "Saving valid_siRNA.zip to valid_siRNA.zip\n"
          ]
        }
      ],
      "source": [
        "# 데이터를 다운받은 후, 로컬 환경에서 구글 코랩에 파일 업로드\n",
        "# https://github.com/deepchem/DeepLearningLifeSciences/tree/master/Chapter06\n",
        "from google.colab import files\n",
        "\n",
        "myfiles = files.upload()\n",
        "\n",
        "# zip 압축 파일 헤제\n",
        "!unzip -qq train_dataset.zip\n",
        "!unzip -qq valid_dataset.zip\n",
        "!unzip -qq test_dataset.zip\n",
        "!unzip -qq train_siRNA.zip\n",
        "!unzip -qq valid_siRNA.zip"
      ]
    },
    {
      "cell_type": "markdown",
      "metadata": {
        "id": "LhTapVCFQZSj"
      },
      "source": [
        "### **1. 전사인자의 결합을 예측하는 합성곱 모델**\n",
        "\n",
        "* 전사인자 JunD를 예시로 해당 전사인자의 결합을 예측하는 모델을 만들어본다.\n",
        "\n",
        "* 여기서는 인간의 가장 작은 염색체인 22번 염색체의 데이터를 사용하여 학습을 진행.\n",
        "\n",
        "* 해당 데이터는 101개의 염기로 구성된 DNA 조각들이며, JunD의 결합 여부가 레이블로 포함돼 있음."
      ]
    },
    {
      "cell_type": "code",
      "execution_count": 4,
      "metadata": {
        "id": "AA0xxfw6OkTt"
      },
      "outputs": [],
      "source": [
        "# 모델 매개변수 설정\n",
        "\n",
        "# 각 샘플에 대한 벡터는 염기의 수 (101bp)와 각 염기 (A, T, G, C)에 대한 one-hot encoding의 수를 곱한 404개의 요소로 구성됨.\n",
        "features = tf.keras.Input(shape = (101, 4)) # 입력값 크기 정의\n",
        "\n",
        "# 해당 데이터셋은 1% 미만의 데이터만 결합 위치 모티프를 포함하고 있어 매우 불균형함.\n",
        "# 불균형 현상을 방지하기 위해 데이터셋에 가중치를 추가\n",
        "prev = features\n",
        "for i in range(3):\n",
        "  prev = layers.Conv1D(\n",
        "      filters = 15, # 각 layer에 몇 개의 filter를 사용할 것인가? -> 15개의 출력값을 생성.\n",
        "      kernel_size = 10, # 합성곱 커널의 너비 : 10 -> A, T, G, C 염기 개수를 입력값으로 사용해 연속적인 서열을 받아 총 40개 (4 × 10) 의 입력값을 받음.\n",
        "      activation = tf.nn.relu, # 활성화 함수 설정\n",
        "      padding = 'same' # 출력 크기를 입력 크기와 동일하게 설정\n",
        "      )(prev)\n",
        "\n",
        "  # 과적합 방지하기 위해 Dropout layer 추가\n",
        "  prev = layers.Dropout(\n",
        "      rate = 0.5, # 모든 출력값의 절반이 임의로 제거\n",
        "      )(prev)\n",
        "\n",
        "# Dense layer를 사용하여 출력값을 계산.\n",
        "logits = layers.Dense(units = 1)(layers.Flatten()(prev)) # 1개의 출력값을 생성 및 1차원 벡터로 변환\n",
        "output = layers.Activation(tf.math.sigmoid)(logits) # 시그모이드 함수 적용"
      ]
    },
    {
      "cell_type": "code",
      "execution_count": 5,
      "metadata": {
        "id": "WEgo0a8TT-zF"
      },
      "outputs": [],
      "source": [
        "# 전사인자의 결합을 예측하는 합성곱 모델 생성\n",
        "keras_model = tf.keras.Model(\n",
        "    inputs = features, # 입력값\n",
        "    outputs = [logits, output] # 출력값 -> 시그모이드 함수 입력값, 결합 부위 존재 확률\n",
        ")\n",
        "\n",
        "model = dc.models.KerasModel(\n",
        "    keras_model, # keras 모델\n",
        "    loss = dc.models.losses.SigmoidCrossEntropy(), # 손실함수 정의\n",
        "    output_types = ['prediction', 'loss'], # 출력값 -> 결합 부위 존재 여부, 교차 엔트로피 값\n",
        "    batch_size = 1000, # 모델 학습 중 parameter 업데이트를 할 때 몇 개의 데이터를 사용할 것인가?\n",
        "    model_dir = \"tf\"\n",
        ")"
      ]
    },
    {
      "cell_type": "code",
      "execution_count": 6,
      "metadata": {
        "id": "6EW4l3JQCW1d"
      },
      "outputs": [],
      "source": [
        "# 학습 데이터 및 검정 데이터 불러오기\n",
        "train = dc.data.DiskDataset('train_dataset')\n",
        "valid = dc.data.DiskDataset('valid_dataset')"
      ]
    },
    {
      "cell_type": "code",
      "execution_count": 7,
      "metadata": {
        "colab": {
          "base_uri": "https://localhost:8080/"
        },
        "id": "a3OgL0hjDUiO",
        "outputId": "0c1114f8-7857-4e10-80d9-b0891eb6b1ed"
      },
      "outputs": [
        {
          "output_type": "stream",
          "name": "stdout",
          "text": [
            "{'roc_auc_score': 0.5329209490034716}\n",
            "{'roc_auc_score': 0.5565352876887641}\n",
            "{'roc_auc_score': 0.5316914601493716}\n",
            "{'roc_auc_score': 0.5448513494830093}\n",
            "{'roc_auc_score': 0.531634615307993}\n",
            "{'roc_auc_score': 0.5442162424053107}\n",
            "{'roc_auc_score': 0.5278478494339021}\n",
            "{'roc_auc_score': 0.5341936829556624}\n",
            "{'roc_auc_score': 0.5276223875419204}\n",
            "{'roc_auc_score': 0.5341354116820656}\n",
            "{'roc_auc_score': 0.5273304459709747}\n",
            "{'roc_auc_score': 0.5360795804308927}\n",
            "{'roc_auc_score': 0.5268546611776953}\n",
            "{'roc_auc_score': 0.536095816700288}\n",
            "{'roc_auc_score': 0.5258614931545698}\n",
            "{'roc_auc_score': 0.5359920241069753}\n",
            "{'roc_auc_score': 0.5257513395918342}\n",
            "{'roc_auc_score': 0.5361042834665372}\n",
            "{'roc_auc_score': 0.5256021081675208}\n",
            "{'roc_auc_score': 0.5361008967600376}\n",
            "{'roc_auc_score': 0.5255469870290137}\n",
            "{'roc_auc_score': 0.5361275919759759}\n",
            "{'roc_auc_score': 0.5255230279481977}\n",
            "{'roc_auc_score': 0.5361251017506086}\n",
            "{'roc_auc_score': 0.525471039824481}\n",
            "{'roc_auc_score': 0.5361257990137114}\n",
            "{'roc_auc_score': 0.5254588953066424}\n",
            "{'roc_auc_score': 0.5361333692988282}\n",
            "{'roc_auc_score': 0.5254500752396692}\n",
            "{'roc_auc_score': 0.536144923944533}\n",
            "{'roc_auc_score': 0.5254372443534638}\n",
            "{'roc_auc_score': 0.5361460196436946}\n",
            "{'roc_auc_score': 0.5254314685870023}\n",
            "{'roc_auc_score': 0.5361480118239885}\n",
            "{'roc_auc_score': 0.5254251620912593}\n",
            "{'roc_auc_score': 0.5361553828910759}\n",
            "{'roc_auc_score': 0.5254223590313303}\n",
            "{'roc_auc_score': 0.5361608613868842}\n",
            "{'roc_auc_score': 0.5254166424077212}\n",
            "{'roc_auc_score': 0.536164845747472}\n"
          ]
        }
      ],
      "source": [
        "# 모델 학습 및 평가\n",
        "metric = dc.metrics.Metric(dc.metrics.roc_auc_score)\n",
        "for i in range(20):\n",
        "  model.fit(train, nb_epoch = 10)\n",
        "  print(model.evaluate(train, [metric]))\n",
        "  print(model.evaluate(valid, [metric]))"
      ]
    },
    {
      "cell_type": "markdown",
      "metadata": {
        "id": "xYohOMonQe_5"
      },
      "source": [
        "### **2. 염색질 접근성 정보를 추가하여 전사인자의 결합을 예측하는 합성곱 모델**\n",
        "\n",
        "* 염색질은 염색체를 구성하는 단위로 DNA, 히스톤, RNA로 구성된 거대 분자 복합체.\n",
        "\n",
        "* 염색질 접근성은 염색체의 각 부분이 외부 분자에 얼마나 쉽게 접근할 수 있는지를 나타냄.\n",
        "\n",
        "* DNA가 히스톤 주변에 단단히 감겨 있으면 전사인자와 다른 분자가 접근할 수 없음.\n",
        "\n",
        "* 염색질 접근성은 세포가 유전자의 발현을 조절하는 데 사용하는 도구로 균일하지 않고 정적이지 않음. 이는 세포의 유형과 세포 주기에 따라 매우 달라지며 환경적인 영향을 받기도 하다는 의미.\n",
        "\n",
        "* 앞서 분석한 JunD 전사인자 데이터셋은 HepG2 (간세포암종 세포주) 세포주를 사용한 실험을 통해 얻은 것이며, 해당 세포주의 염색질 접근성에 의해 실제 전사인자 결합 부위가 달라졌을 수 있음.\n",
        "\n",
        "따라서, 이전 머신러닝 모델에 염색질 접근성 정보를 추가하는 작업을 해보자."
      ]
    },
    {
      "cell_type": "code",
      "execution_count": 8,
      "metadata": {
        "id": "MkAWtxxTHoXW"
      },
      "outputs": [],
      "source": [
        "# 모델 매개변수 설정\n",
        "\n",
        "# 입력값 크기 정의\n",
        "features = tf.keras.Input(shape = (101, 4))\n",
        "accessibility = tf.keras.Input(shape = (1, ))\n",
        "\n",
        "# 해당 데이터셋은 1% 미만의 데이터만 결합 위치 모티프를 포함하고 있어 매우 불균형함.\n",
        "# 불균형 현상을 방지하기 위해 데이터셋에 가중치를 추가\n",
        "prev = features\n",
        "for i in range(3):\n",
        "  prev = layers.Conv1D(\n",
        "      filters = 15, # 각 layer에 몇 개의 filter를 사용할 것인가?\n",
        "      kernel_size = 10, # 합성곱 커널의 너비\n",
        "      activation = tf.nn.relu, # 활성화 함수 설정\n",
        "      padding = 'same' # 출력 크기를 입력 크기와 동일하게 설정\n",
        "      )(prev)\n",
        "\n",
        "  # 과적합 방지하기 위해 Dropout layer 추가\n",
        "  prev = layers.Dropout(\n",
        "      rate = 0.5,\n",
        "      )(prev)\n",
        "\n",
        "# 두 개의 입력 벡터 합치기 및 1개의 출력값을 생성 및 1차원 벡터로 변환\n",
        "prev = layers.Concatenate()([layers.Flatten()(prev), accessibility])\n",
        "logits = layers.Dense(units = 1)(prev) # Dense layer를 사용하여 출력값을 계산.\n",
        "output = layers.Activation(tf.math.sigmoid)(logits) # 시그모이드 함수 적용"
      ]
    },
    {
      "cell_type": "code",
      "execution_count": 9,
      "metadata": {
        "id": "9jUtK6CeIhef"
      },
      "outputs": [],
      "source": [
        "# 전사인자의 결합을 예측하는 합성곱 모델 생성\n",
        "keras_model = tf.keras.Model(\n",
        "    inputs = [features, accessibility], # 입력값\n",
        "    outputs = [logits, output] # 출력값 -> 시그모이드 함수 입력값, 결합 부위 존재 확률\n",
        ")\n",
        "\n",
        "model = dc.models.KerasModel(\n",
        "    keras_model,\n",
        "    loss=dc.models.losses.SigmoidCrossEntropy(), # 손실함수 정의\n",
        "    output_types = ['prediction', 'loss'], # 출력값\n",
        "    batch_size = 1000, # 모델 학습 중 parameter 업데이트를 할 때 몇 개의 데이터를 사용할 것인가?\n",
        "    model_dir = 'chromatin'\n",
        "    )"
      ]
    },
    {
      "cell_type": "code",
      "execution_count": 10,
      "metadata": {
        "id": "ziHxORQfIqkZ"
      },
      "outputs": [],
      "source": [
        "# 학습 데이터 및 검정 데이터 불러오기\n",
        "train = dc.data.DiskDataset('train_dataset')\n",
        "valid = dc.data.DiskDataset('valid_dataset')\n",
        "\n",
        "# 염색질 접근성 데이터 불러오기\n",
        "span_accessibility = {}\n",
        "for line in open('accessibility.txt'):\n",
        "    fields = line.split()\n",
        "    span_accessibility[fields[0]] = float(fields[1]) # 염색체 부위 식별자 (i.g. chr22:20208963-20209064): 염색질 접근성 수치"
      ]
    },
    {
      "cell_type": "code",
      "execution_count": 11,
      "metadata": {
        "id": "uALuQIhEQuMe"
      },
      "outputs": [],
      "source": [
        "# feature layer가 두 개 있기 때문에 fit() 함수를 사용할 수 없음.\n",
        "# 이를 해결하기 위해, 생성자 함수를 통해 배치별 반복 학습 수행\n",
        "def generate_batches(dataset, epochs):\n",
        "    for epoch in range(epochs):\n",
        "        for X, y, w, ids in dataset.iterbatches(batch_size = 1000, pad_batches = True):\n",
        "            yield ([X, np.array([span_accessibility[id] for id in ids])], [y], [w])"
      ]
    },
    {
      "cell_type": "code",
      "execution_count": 12,
      "metadata": {
        "id": "DMDLaJOXFbtm",
        "colab": {
          "base_uri": "https://localhost:8080/"
        },
        "outputId": "9db0a0d9-11f4-4c36-b182-508910bf168f"
      },
      "outputs": [
        {
          "output_type": "stream",
          "name": "stdout",
          "text": [
            "{'roc_auc_score': 0.5427153362745221}\n",
            "{'roc_auc_score': 0.5623695635256581}\n",
            "{'roc_auc_score': 0.6116264378488627}\n",
            "{'roc_auc_score': 0.5829681970349115}\n",
            "{'roc_auc_score': 0.6533903928446769}\n",
            "{'roc_auc_score': 0.6059582413288387}\n",
            "{'roc_auc_score': 0.6622667367050801}\n",
            "{'roc_auc_score': 0.5974617405993377}\n",
            "{'roc_auc_score': 0.6936092917429748}\n",
            "{'roc_auc_score': 0.6139982660268439}\n",
            "{'roc_auc_score': 0.7105355366016542}\n",
            "{'roc_auc_score': 0.6276060848879381}\n",
            "{'roc_auc_score': 0.719656119100886}\n",
            "{'roc_auc_score': 0.6268496923762608}\n",
            "{'roc_auc_score': 0.7291106387539031}\n",
            "{'roc_auc_score': 0.6459600682438642}\n",
            "{'roc_auc_score': 0.7259571008811398}\n",
            "{'roc_auc_score': 0.6314070114890704}\n",
            "{'roc_auc_score': 0.7360047035901742}\n",
            "{'roc_auc_score': 0.6501073755021927}\n",
            "{'roc_auc_score': 0.739049179369236}\n",
            "{'roc_auc_score': 0.6511555340267443}\n",
            "{'roc_auc_score': 0.7421610032655375}\n",
            "{'roc_auc_score': 0.6529076996652319}\n",
            "{'roc_auc_score': 0.742144361522221}\n",
            "{'roc_auc_score': 0.6458361268933017}\n",
            "{'roc_auc_score': 0.7536582037527707}\n",
            "{'roc_auc_score': 0.6616766147818884}\n",
            "{'roc_auc_score': 0.7511598231123011}\n",
            "{'roc_auc_score': 0.6442534061851748}\n",
            "{'roc_auc_score': 0.7651617254020414}\n",
            "{'roc_auc_score': 0.6615904351984696}\n",
            "{'roc_auc_score': 0.7663195285610618}\n",
            "{'roc_auc_score': 0.6756349629785874}\n",
            "{'roc_auc_score': 0.7691351037035656}\n",
            "{'roc_auc_score': 0.6942621851163685}\n",
            "{'roc_auc_score': 0.769299943270015}\n",
            "{'roc_auc_score': 0.6829707831941887}\n",
            "{'roc_auc_score': 0.7729044101616152}\n",
            "{'roc_auc_score': 0.6881046166494027}\n"
          ]
        }
      ],
      "source": [
        "# 모델 학습 및 평가\n",
        "metric = dc.metrics.Metric(dc.metrics.roc_auc_score)\n",
        "for i in range(20):\n",
        "    model.fit_generator(generate_batches(train, epochs = 10))\n",
        "    print(model.evaluate_generator(generate_batches(train, 1), [metric]))\n",
        "    print(model.evaluate_generator(generate_batches(valid, 1), [metric]))"
      ]
    },
    {
      "cell_type": "markdown",
      "metadata": {
        "id": "jRJ3hYk3J4vj"
      },
      "source": [
        "### **3. RNA 간섭**\n",
        "\n",
        "* RNA 간섭은 작은 RNA 조각 (siRNA)이 상보적인 mRNA 서열에 결합한 후 비활성화해서 단백질로의 번역을 막는 현상.\n",
        "\n",
        "* RNA 간섭은 복잡한 생물학적 과정이며 붙어있는 두 가닥의 RNA 작용뿐만 아니라 그보다 더 많은 과정이 포함됨. (유전자 발현 조절, 바이러스에 대한 방어 기작)\n",
        "\n",
        "* 해당 데이터셋은 각각 21개의 염기로 구성된 총 2,431개의 siRNA로 구성되어 있으며, 해당 siRNA들은 모두 실험적으로 효과가 검증됐고 0에서 1 사이의 값으로 표현. (값이 1에 가까울수록 RNA 간섭이 잘 일어남을 의미)\n",
        "\n",
        "따라서, RNA 서열을 입력 데이터로 사용해 RNA 간섭 효과를 예측하는 모델을 만들어본다."
      ]
    },
    {
      "cell_type": "code",
      "execution_count": 13,
      "metadata": {
        "id": "caxJ9kxWJ3Tm"
      },
      "outputs": [],
      "source": [
        "# 모델 매개변수 설정\n",
        "\n",
        "# 입력값 크기 정의\n",
        "features = tf.keras.Input(shape = (21, 4))\n",
        "\n",
        "# 불균형 현상을 방지하기 위해 데이터셋에 가중치를 추가\n",
        "prev = features\n",
        "for i in range(2):\n",
        "  prev = layers.Conv1D(\n",
        "      filters = 10, # 각 layer에 몇 개의 filter를 사용할 것인가?\n",
        "      kernel_size = 10, # 합성곱 커널의 너비\n",
        "      activation = tf.nn.relu, # 활성화 함수 설정\n",
        "      padding = 'same' # 출력 크기를 입력 크기와 동일하게 설정\n",
        "      )(prev)\n",
        "\n",
        "  # 과적합 방지하기 위해 Dropout layer 추가\n",
        "  prev = layers.Dropout(\n",
        "      rate = 0.3,\n",
        "      )(prev)\n",
        "\n",
        "# 출력값 정의\n",
        "output = layers.Dense(units = 1, activation = tf.math.sigmoid)(layers.Flatten()(prev))"
      ]
    },
    {
      "cell_type": "code",
      "execution_count": 14,
      "metadata": {
        "id": "xeBoQI-OsgWE"
      },
      "outputs": [],
      "source": [
        "# RNA 간섭을 예측하는 합성곱 모델 생성\n",
        "keras_model = tf.keras.Model(\n",
        "    inputs = features,\n",
        "    outputs = output)\n",
        "\n",
        "model = dc.models.KerasModel(\n",
        "    keras_model, # keras 모델\n",
        "    loss = dc.models.losses.L2Loss(), # 손실함수 정의\n",
        "    batch_size = 1000, # 모델 학습 중 parameter 업데이트를 할 때 몇 개의 데이터를 사용할 것인가?\n",
        "    model_dir = \"rnai\"\n",
        ")"
      ]
    },
    {
      "cell_type": "code",
      "execution_count": 15,
      "metadata": {
        "id": "z2t-2PYis_tr",
        "colab": {
          "base_uri": "https://localhost:8080/"
        },
        "outputId": "8e761df0-4c12-4d5d-d631-ae9b218245a7"
      },
      "outputs": [
        {
          "output_type": "stream",
          "name": "stdout",
          "text": [
            "0.14605836901023783\n",
            "0.21526241293547493\n",
            "0.3940111615017957\n",
            "0.39498553394051356\n",
            "0.4906341519132713\n",
            "0.4472834886588448\n",
            "0.5538875726206277\n",
            "0.48439236020086024\n",
            "0.6002988680741739\n",
            "0.5261953201164888\n",
            "0.6238535925070778\n",
            "0.5468435946696889\n",
            "0.643089038193633\n",
            "0.565987928106023\n",
            "0.6578168649680985\n",
            "0.5788285335011547\n",
            "0.6710699775815255\n",
            "0.5923505623760502\n",
            "0.6782130023104167\n",
            "0.5976205366008043\n",
            "0.6872070737250024\n",
            "0.6012548747130301\n",
            "0.6924556526633852\n",
            "0.6049670250862738\n",
            "0.6969174309313387\n",
            "0.60904086671645\n",
            "0.7015255421083213\n",
            "0.6111383435001315\n",
            "0.7070176765948372\n",
            "0.6153656093096584\n",
            "0.7088239777569179\n",
            "0.6127246711722698\n",
            "0.713123099238385\n",
            "0.6147918159158182\n",
            "0.7161899341148075\n",
            "0.6160870840854705\n",
            "0.7185696646186188\n",
            "0.6139272864451167\n",
            "0.7222633572680459\n",
            "0.6132713895464732\n"
          ]
        }
      ],
      "source": [
        "# 학습 데이터 및 검정 데이터 불러오기\n",
        "train = dc.data.DiskDataset('train_siRNA')\n",
        "valid = dc.data.DiskDataset('valid_siRNA')\n",
        "\n",
        "# 모델 학습 및 평가\n",
        "metric = dc.metrics.Metric(dc.metrics.pearsonr, mode = 'regression')\n",
        "for i in range(20):\n",
        "  model.fit(train, nb_epoch = 10)\n",
        "  print(model.evaluate(train, [metric])['pearsonr'])\n",
        "  print(model.evaluate(valid, [metric])['pearsonr'])"
      ]
    }
  ],
  "metadata": {
    "accelerator": "GPU",
    "colab": {
      "provenance": [],
      "authorship_tag": "ABX9TyODFZG4ffdyvtn530qXFJSU",
      "include_colab_link": true
    },
    "kernelspec": {
      "display_name": "Python 3",
      "name": "python3"
    },
    "language_info": {
      "name": "python"
    }
  },
  "nbformat": 4,
  "nbformat_minor": 0
}